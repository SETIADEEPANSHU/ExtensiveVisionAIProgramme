{
  "nbformat": 4,
  "nbformat_minor": 0,
  "metadata": {
    "colab": {
      "name": "topic model with pyldavis",
      "provenance": [],
      "include_colab_link": true
    },
    "kernelspec": {
      "name": "python3",
      "display_name": "Python 3"
    },
    "accelerator": "GPU"
  },
  "cells": [
    {
      "cell_type": "markdown",
      "metadata": {
        "id": "view-in-github",
        "colab_type": "text"
      },
      "source": [
        "<a href=\"https://colab.research.google.com/github/SETIADEEPANSHU/ExtensiveVisionAIProgramme/blob/master/topic_model_with_pyldavis.ipynb\" target=\"_parent\"><img src=\"https://colab.research.google.com/assets/colab-badge.svg\" alt=\"Open In Colab\"/></a>"
      ]
    },
    {
      "cell_type": "code",
      "metadata": {
        "id": "Jw1rgCpITzv-",
        "colab_type": "code",
        "colab": {}
      },
      "source": [
        "import sys\n",
        "# !{sys.executable} -m spacy download en\n",
        "import re, numpy as np, pandas as pd\n",
        "from pprint import pprint\n",
        "\n",
        "# Gensim\n",
        "import gensim, spacy, logging, warnings\n",
        "import gensim.corpora as corpora\n",
        "from gensim.utils import lemmatize, simple_preprocess\n",
        "from gensim.models import CoherenceModel\n",
        "import matplotlib.pyplot as plt\n",
        "\n",
        "# NLTK Stop words\n",
        "from nltk.corpus import stopwords\n",
        "stop_words = stopwords.words('english')\n",
        "stop_words.extend(['from', 'subject', 're', 'edu', 'use', 'not', 'would', 'say', 'could', '_', 'be', 'know', 'good', 'go', 'get', 'do', 'done', 'try', 'many', 'some', 'nice', 'thank', 'think', 'see', 'rather', 'easy', 'easily', 'lot', 'lack', 'make', 'want', 'seem', 'run', 'need', 'even', 'right', 'line', 'even', 'also', 'may', 'take', 'come'])\n",
        "\n",
        "%matplotlib inline\n",
        "warnings.filterwarnings(\"ignore\",category=DeprecationWarning)\n",
        "logging.basicConfig(format='%(asctime)s : %(levelname)s : %(message)s', level=logging.ERROR)"
      ],
      "execution_count": 0,
      "outputs": []
    },
    {
      "cell_type": "code",
      "metadata": {
        "id": "JjlOZQGNVHFS",
        "colab_type": "code",
        "outputId": "01d8bce2-6ffc-42a1-a371-51364e608f7a",
        "colab": {
          "base_uri": "https://localhost:8080/",
          "height": 68
        }
      },
      "source": [
        "import nltk\n",
        "nltk.download(\"stopwords\")"
      ],
      "execution_count": 0,
      "outputs": [
        {
          "output_type": "stream",
          "text": [
            "[nltk_data] Downloading package stopwords to /root/nltk_data...\n",
            "[nltk_data]   Package stopwords is already up-to-date!\n"
          ],
          "name": "stdout"
        },
        {
          "output_type": "execute_result",
          "data": {
            "text/plain": [
              "True"
            ]
          },
          "metadata": {
            "tags": []
          },
          "execution_count": 29
        }
      ]
    },
    {
      "cell_type": "code",
      "metadata": {
        "id": "9mTm1UqYUTBn",
        "colab_type": "code",
        "outputId": "3fb55c57-c21f-4af8-e45c-a0ae1ab84317",
        "colab": {
          "resources": {
            "http://localhost:8080/nbextensions/google.colab/files.js": {
              "data": "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",
              "ok": true,
              "headers": [
                [
                  "content-type",
                  "application/javascript"
                ]
              ],
              "status": 200,
              "status_text": ""
            }
          },
          "base_uri": "https://localhost:8080/",
          "height": 91
        }
      },
      "source": [
        "#uploading the dataset on to colab\n",
        "from google.colab import files\n",
        "\n",
        "uploaded = files.upload()\n",
        "\n",
        "for fn in uploaded.keys():\n",
        "  print('User uploaded file \"{name}\" with length {length} bytes'.format(\n",
        "      name=fn, length=len(uploaded[fn])))"
      ],
      "execution_count": 0,
      "outputs": [
        {
          "output_type": "display_data",
          "data": {
            "text/html": [
              "\n",
              "     <input type=\"file\" id=\"files-9fc5b3ea-8627-42bc-8cde-eb8da28bdeca\" name=\"files[]\" multiple disabled />\n",
              "     <output id=\"result-9fc5b3ea-8627-42bc-8cde-eb8da28bdeca\">\n",
              "      Upload widget is only available when the cell has been executed in the\n",
              "      current browser session. Please rerun this cell to enable.\n",
              "      </output>\n",
              "      <script src=\"/nbextensions/google.colab/files.js\"></script> "
            ],
            "text/plain": [
              "<IPython.core.display.HTML object>"
            ]
          },
          "metadata": {
            "tags": []
          }
        },
        {
          "output_type": "stream",
          "text": [
            "Saving one.csv to one (1).csv\n",
            "User uploaded file \"one.csv\" with length 4684437 bytes\n"
          ],
          "name": "stdout"
        }
      ]
    },
    {
      "cell_type": "code",
      "metadata": {
        "id": "yfAN-UhwVnWb",
        "colab_type": "code",
        "outputId": "aed0b104-8dfe-4666-dc13-745aba6b7e8f",
        "colab": {
          "base_uri": "https://localhost:8080/",
          "height": 1000
        }
      },
      "source": [
        "df = pd.read_csv('one.csv')\n",
        "df = df.head(20000)\n",
        "df.dropna()"
      ],
      "execution_count": 0,
      "outputs": [
        {
          "output_type": "execute_result",
          "data": {
            "text/html": [
              "<div>\n",
              "<style scoped>\n",
              "    .dataframe tbody tr th:only-of-type {\n",
              "        vertical-align: middle;\n",
              "    }\n",
              "\n",
              "    .dataframe tbody tr th {\n",
              "        vertical-align: top;\n",
              "    }\n",
              "\n",
              "    .dataframe thead th {\n",
              "        text-align: right;\n",
              "    }\n",
              "</style>\n",
              "<table border=\"1\" class=\"dataframe\">\n",
              "  <thead>\n",
              "    <tr style=\"text-align: right;\">\n",
              "      <th></th>\n",
              "      <th>Unnamed: 0</th>\n",
              "      <th>Title</th>\n",
              "      <th>Body</th>\n",
              "      <th>Link</th>\n",
              "    </tr>\n",
              "  </thead>\n",
              "  <tbody>\n",
              "    <tr>\n",
              "      <th>0</th>\n",
              "      <td>0.0</td>\n",
              "      <td>These “Amazon’s Choice” Sellers Are Bribing Cu...</td>\n",
              "      <td>Some sellers offer gift cards or freebies to c...</td>\n",
              "      <td>https://www.buzzfeednews.com/article/nicolengu...</td>\n",
              "    </tr>\n",
              "    <tr>\n",
              "      <th>1</th>\n",
              "      <td>1.0</td>\n",
              "      <td>Millions Of Americans Could Lose Power For Day...</td>\n",
              "      <td>The utility company did not definitively say h...</td>\n",
              "      <td>https://www.buzzfeednews.com/article/clarissaj...</td>\n",
              "    </tr>\n",
              "    <tr>\n",
              "      <th>2</th>\n",
              "      <td>2.0</td>\n",
              "      <td>Two Key Players In The Ukraine Controversy Spe...</td>\n",
              "      <td>Bank records reveal a whirlwind of spending at...</td>\n",
              "      <td>https://www.buzzfeednews.com/article/mikesalla...</td>\n",
              "    </tr>\n",
              "    <tr>\n",
              "      <th>3</th>\n",
              "      <td>3.0</td>\n",
              "      <td>Angry Parents Are Demanding Refunds For YouTub...</td>\n",
              "      <td>The popular kids entertainer, previously invol...</td>\n",
              "      <td>https://www.buzzfeednews.com/article/katienoto...</td>\n",
              "    </tr>\n",
              "    <tr>\n",
              "      <th>4</th>\n",
              "      <td>4.0</td>\n",
              "      <td>Joe Biden Said Donald Trump “Should Be Impeached”</td>\n",
              "      <td>\"He's shooting holes in the Constitution,” Bid...</td>\n",
              "      <td>https://www.buzzfeednews.com/article/henrygome...</td>\n",
              "    </tr>\n",
              "    <tr>\n",
              "      <th>5</th>\n",
              "      <td>5.0</td>\n",
              "      <td>A Gunman Apparently Motivated By Anti-Semitism...</td>\n",
              "      <td>Two people were killed in Halle, Germany, by a...</td>\n",
              "      <td>https://www.buzzfeednews.com/article/ryanhates...</td>\n",
              "    </tr>\n",
              "    <tr>\n",
              "      <th>6</th>\n",
              "      <td>6.0</td>\n",
              "      <td>As Google Backlashes Have Risen And Fallen, So...</td>\n",
              "      <td>Google’s troubles have been moving from Europe...</td>\n",
              "      <td>https://www.buzzfeednews.com/article/alexkantr...</td>\n",
              "    </tr>\n",
              "    <tr>\n",
              "      <th>7</th>\n",
              "      <td>7.0</td>\n",
              "      <td>Collin Martin, An Openly Gay Pro Soccer Player...</td>\n",
              "      <td>“I know that growing up as a closeted kid I co...</td>\n",
              "      <td>https://www.buzzfeednews.com/article/ryancbroo...</td>\n",
              "    </tr>\n",
              "    <tr>\n",
              "      <th>8</th>\n",
              "      <td>8.0</td>\n",
              "      <td>Jameela Jamil Explained Her George W. Bush Twe...</td>\n",
              "      <td>The star of The Good Place has been in a messy...</td>\n",
              "      <td>https://www.buzzfeednews.com/article/davidmack...</td>\n",
              "    </tr>\n",
              "    <tr>\n",
              "      <th>9</th>\n",
              "      <td>9.0</td>\n",
              "      <td>A YouTuber Has Been Accused By Fans Of A Scam ...</td>\n",
              "      <td>Alissa Violet's fans are now trolling her over...</td>\n",
              "      <td>https://www.buzzfeednews.com/article/tanyachen...</td>\n",
              "    </tr>\n",
              "    <tr>\n",
              "      <th>10</th>\n",
              "      <td>10.0</td>\n",
              "      <td>A 9-Year-Old Was Charged With Multiple Counts ...</td>\n",
              "      <td>The child was accused of intentionally startin...</td>\n",
              "      <td>https://www.buzzfeednews.com/article/tasneemna...</td>\n",
              "    </tr>\n",
              "    <tr>\n",
              "      <th>11</th>\n",
              "      <td>11.0</td>\n",
              "      <td>Matt Lauer Has Denied An Allegation That He Ra...</td>\n",
              "      <td>\"There was absolutely nothing aggressive about...</td>\n",
              "      <td>https://www.buzzfeednews.com/article/michaelbl...</td>\n",
              "    </tr>\n",
              "    <tr>\n",
              "      <th>12</th>\n",
              "      <td>12.0</td>\n",
              "      <td>I Thought Wilderness Was A Place To Find Mysel...</td>\n",
              "      <td>A summer working on trails in the burned-out O...</td>\n",
              "      <td>https://www.buzzfeednews.com/article/leoschwar...</td>\n",
              "    </tr>\n",
              "    <tr>\n",
              "      <th>13</th>\n",
              "      <td>13.0</td>\n",
              "      <td>There's A Blizzard Boycott Movement After A \"H...</td>\n",
              "      <td>Memers are turning popular characters, like Ov...</td>\n",
              "      <td>https://www.buzzfeednews.com/article/laurenstr...</td>\n",
              "    </tr>\n",
              "    <tr>\n",
              "      <th>14</th>\n",
              "      <td>14.0</td>\n",
              "      <td>Incoming: All We Are Is Cheez-Its In The Wind</td>\n",
              "      <td>Trump refuses to comply with the impeachment i...</td>\n",
              "      <td>https://www.buzzfeednews.com/article/elaminabd...</td>\n",
              "    </tr>\n",
              "    <tr>\n",
              "      <th>15</th>\n",
              "      <td>15.0</td>\n",
              "      <td>Three Scientists Have Won The Nobel Prize In C...</td>\n",
              "      <td>John Goodenough, Stanley Whittingham, and Akir...</td>\n",
              "      <td>https://www.buzzfeednews.com/article/nidhisubb...</td>\n",
              "    </tr>\n",
              "    <tr>\n",
              "      <th>16</th>\n",
              "      <td>16.0</td>\n",
              "      <td>“The Bachelor” Star Peter Weber Suffered \"A Fr...</td>\n",
              "      <td>“He’s 100% OK and production is already back u...</td>\n",
              "      <td>https://www.buzzfeednews.com/article/krystieya...</td>\n",
              "    </tr>\n",
              "    <tr>\n",
              "      <th>17</th>\n",
              "      <td>17.0</td>\n",
              "      <td>The Trump Administration Says It Won't Comply ...</td>\n",
              "      <td>After preventing the US ambassador to the Euro...</td>\n",
              "      <td>https://www.buzzfeednews.com/article/sarahmimm...</td>\n",
              "    </tr>\n",
              "    <tr>\n",
              "      <th>18</th>\n",
              "      <td>18.0</td>\n",
              "      <td>19 Of The Oldest Pictures From The History Of ...</td>\n",
              "      <td>\"I find the 19th century a particularly fascin...</td>\n",
              "      <td>https://www.buzzfeednews.com/article/gabrielsa...</td>\n",
              "    </tr>\n",
              "    <tr>\n",
              "      <th>19</th>\n",
              "      <td>19.0</td>\n",
              "      <td>Joshua Brown, A Key Witness In A Dallas Ex-Cop...</td>\n",
              "      <td>Police said Joshua Brown's death had nothing t...</td>\n",
              "      <td>https://www.buzzfeednews.com/article/briannasa...</td>\n",
              "    </tr>\n",
              "    <tr>\n",
              "      <th>20</th>\n",
              "      <td>20.0</td>\n",
              "      <td>A 15-Year-Old Girl Was Suspended For \"Bullying...</td>\n",
              "      <td>\"I honestly feel very ashamed that my school t...</td>\n",
              "      <td>https://www.buzzfeednews.com/article/juliarein...</td>\n",
              "    </tr>\n",
              "    <tr>\n",
              "      <th>21</th>\n",
              "      <td>21.0</td>\n",
              "      <td>Brett Kavanaugh Asked Just One Question During...</td>\n",
              "      <td>The justices will decide if a federal law agai...</td>\n",
              "      <td>https://www.buzzfeednews.com/article/zoetillma...</td>\n",
              "    </tr>\n",
              "    <tr>\n",
              "      <th>22</th>\n",
              "      <td>22.0</td>\n",
              "      <td>Some Hunky Divers Re-Created The \"Avengers, As...</td>\n",
              "      <td>TikTok memes, assemble!By              Lauren ...</td>\n",
              "      <td>https://www.buzzfeednews.com/article/laurenstr...</td>\n",
              "    </tr>\n",
              "    <tr>\n",
              "      <th>23</th>\n",
              "      <td>23.0</td>\n",
              "      <td>Joe Biden’s Sister Called Trump “Unhinged” For...</td>\n",
              "      <td>\"He has chosen my family to be the vehicle tha...</td>\n",
              "      <td>https://www.buzzfeednews.com/article/henrygome...</td>\n",
              "    </tr>\n",
              "    <tr>\n",
              "      <th>24</th>\n",
              "      <td>24.0</td>\n",
              "      <td>A Woman Pinned A Cheez-It On A Wall To See Whe...</td>\n",
              "      <td>Also, surprise! Sara Smith was then harassed o...</td>\n",
              "      <td>https://www.buzzfeednews.com/article/tanyachen...</td>\n",
              "    </tr>\n",
              "    <tr>\n",
              "      <th>25</th>\n",
              "      <td>25.0</td>\n",
              "      <td>What I Wish I’d Known When I Started College</td>\n",
              "      <td>Buy a sippy cup, glue jewels on it, and bring ...</td>\n",
              "      <td>https://www.buzzfeednews.com/article/caitlindo...</td>\n",
              "    </tr>\n",
              "    <tr>\n",
              "      <th>26</th>\n",
              "      <td>26.0</td>\n",
              "      <td>A Judge Cleared The Record Of A 21-Year-Old Wh...</td>\n",
              "      <td>\"I made a mistake, but I didn't know I would g...</td>\n",
              "      <td>https://www.buzzfeednews.com/article/juliarein...</td>\n",
              "    </tr>\n",
              "    <tr>\n",
              "      <th>27</th>\n",
              "      <td>27.0</td>\n",
              "      <td>Three Scientists Have Won The Nobel Prize In P...</td>\n",
              "      <td>James Peebles, Michel Mayor, and Didier Queloz...</td>\n",
              "      <td>https://www.buzzfeednews.com/article/danvergan...</td>\n",
              "    </tr>\n",
              "    <tr>\n",
              "      <th>28</th>\n",
              "      <td>28.0</td>\n",
              "      <td>The Cave Rescuer Suing Elon Musk Claims The Te...</td>\n",
              "      <td>Musk: \"I’m a fucking idiot.\"By              Ry...</td>\n",
              "      <td>https://www.buzzfeednews.com/article/ryanmac/u...</td>\n",
              "    </tr>\n",
              "    <tr>\n",
              "      <th>29</th>\n",
              "      <td>29.0</td>\n",
              "      <td>Julián Castro Escorted 12 Asylum-Seekers To Th...</td>\n",
              "      <td>\"It's a disaster,\" the presidential hopeful sa...</td>\n",
              "      <td>https://www.buzzfeednews.com/article/adolfoflo...</td>\n",
              "    </tr>\n",
              "    <tr>\n",
              "      <th>...</th>\n",
              "      <td>...</td>\n",
              "      <td>...</td>\n",
              "      <td>...</td>\n",
              "      <td>...</td>\n",
              "    </tr>\n",
              "    <tr>\n",
              "      <th>1060</th>\n",
              "      <td>1058.0</td>\n",
              "      <td>How High Can You Climb In This 20-Level World ...</td>\n",
              "      <td>Make your way around the globe.      BuzzFeed ...</td>\n",
              "      <td>https://www.buzzfeed.com/jonmichaelpoff/world-...</td>\n",
              "    </tr>\n",
              "    <tr>\n",
              "      <th>1061</th>\n",
              "      <td>1059.0</td>\n",
              "      <td>Plan The Perfect Saturday And We'll Tell You W...</td>\n",
              "      <td>\"Get in loser, we're going shopping.\"      Thi...</td>\n",
              "      <td>https://www.buzzfeed.com/yeehawhowdy/pick-a-pe...</td>\n",
              "    </tr>\n",
              "    <tr>\n",
              "      <th>1062</th>\n",
              "      <td>1060.0</td>\n",
              "      <td>One Of These Pictures Of Cole Sprouse Is Actua...</td>\n",
              "      <td>Could Lili Reinhart pass this test?           ...</td>\n",
              "      <td>https://www.buzzfeed.com/stephenlaconte/cole-s...</td>\n",
              "    </tr>\n",
              "    <tr>\n",
              "      <th>1063</th>\n",
              "      <td>1061.0</td>\n",
              "      <td>Make Some Rich Person Decisions, And We'll Rev...</td>\n",
              "      <td>There's always a chance!                  Firs...</td>\n",
              "      <td>https://www.buzzfeed.com/saadmatheus/are-you-g...</td>\n",
              "    </tr>\n",
              "    <tr>\n",
              "      <th>1064</th>\n",
              "      <td>1062.0</td>\n",
              "      <td>The Photos You Choose Will Reveal If You're In...</td>\n",
              "      <td>Yes or no?      This post was created by a mem...</td>\n",
              "      <td>https://www.buzzfeed.com/artlife1254/can-i-gue...</td>\n",
              "    </tr>\n",
              "    <tr>\n",
              "      <th>1065</th>\n",
              "      <td>1063.0</td>\n",
              "      <td>We Know Your Most Appealing And Sexiest Qualit...</td>\n",
              "      <td>All black, but make it sexy.                  ...</td>\n",
              "      <td>https://www.buzzfeed.com/jamedjackson/build-an...</td>\n",
              "    </tr>\n",
              "    <tr>\n",
              "      <th>1066</th>\n",
              "      <td>1064.0</td>\n",
              "      <td>We Know Which State You're From Based On The A...</td>\n",
              "      <td>Pick one from every color!      This post was ...</td>\n",
              "      <td>https://www.buzzfeed.com/bbri7/well-guess-whic...</td>\n",
              "    </tr>\n",
              "    <tr>\n",
              "      <th>1067</th>\n",
              "      <td>1065.0</td>\n",
              "      <td>We Know Your Biggest Fear Based On The Food Yo...</td>\n",
              "      <td>Are you afraid of the dark?      This post was...</td>\n",
              "      <td>https://www.buzzfeed.com/rheakurien/pick-a-bun...</td>\n",
              "    </tr>\n",
              "    <tr>\n",
              "      <th>1068</th>\n",
              "      <td>1066.0</td>\n",
              "      <td>Are You More Like Elsa Or Anna?</td>\n",
              "      <td>Let it go.      This post was created by a mem...</td>\n",
              "      <td>https://www.buzzfeed.com/haaniholland/are-you-...</td>\n",
              "    </tr>\n",
              "    <tr>\n",
              "      <th>1069</th>\n",
              "      <td>1067.0</td>\n",
              "      <td>This French Food Quiz Will Reveal Which City I...</td>\n",
              "      <td>It'll be nice to visit Nice!      This post wa...</td>\n",
              "      <td>https://www.buzzfeed.com/bbri7/well-tell-you-w...</td>\n",
              "    </tr>\n",
              "    <tr>\n",
              "      <th>1070</th>\n",
              "      <td>1068.0</td>\n",
              "      <td>Your Walt Disney World Preferences Will Reveal...</td>\n",
              "      <td>BRB, planning all the Disney trips.           ...</td>\n",
              "      <td>https://www.buzzfeed.com/samanthawieder/plan-y...</td>\n",
              "    </tr>\n",
              "    <tr>\n",
              "      <th>1071</th>\n",
              "      <td>1069.0</td>\n",
              "      <td>Are You More Of A Good Janet Or A Bad Janet Fr...</td>\n",
              "      <td>Not a girl. Not a robot.                  Pick...</td>\n",
              "      <td>https://www.buzzfeed.com/jamiejirak1/quiz-are-...</td>\n",
              "    </tr>\n",
              "    <tr>\n",
              "      <th>1072</th>\n",
              "      <td>1070.0</td>\n",
              "      <td>Tell Us Your TV Preferences And We'll Give You...</td>\n",
              "      <td>Press play!      This post was created by a me...</td>\n",
              "      <td>https://www.buzzfeed.com/renskess/tell-us-your...</td>\n",
              "    </tr>\n",
              "    <tr>\n",
              "      <th>1073</th>\n",
              "      <td>1071.0</td>\n",
              "      <td>The House You Design Will Reveal Which \"Mean G...</td>\n",
              "      <td>I'm a house, duh!      This post was created b...</td>\n",
              "      <td>https://www.buzzfeed.com/rheakurien/the-interi...</td>\n",
              "    </tr>\n",
              "    <tr>\n",
              "      <th>1074</th>\n",
              "      <td>1072.0</td>\n",
              "      <td>The Disney Characters You Pick Will Reveal You...</td>\n",
              "      <td>Wish upon a star!                  Pick a Disn...</td>\n",
              "      <td>https://www.buzzfeed.com/crazy_sagittarius/the...</td>\n",
              "    </tr>\n",
              "    <tr>\n",
              "      <th>1075</th>\n",
              "      <td>1073.0</td>\n",
              "      <td>A Famous Person Died The Day You Were Born — H...</td>\n",
              "      <td>In some cosmic way, you two are connected.    ...</td>\n",
              "      <td>https://www.buzzfeed.com/audreyworboys/famous-...</td>\n",
              "    </tr>\n",
              "    <tr>\n",
              "      <th>1076</th>\n",
              "      <td>1074.0</td>\n",
              "      <td>1\\n\\nWhich Male Celeb Should You Marry Based O...</td>\n",
              "      <td>Tom Holland or Manny Jactino?      This post w...</td>\n",
              "      <td>https://www.buzzfeed.com/freddie3000/this-marr...</td>\n",
              "    </tr>\n",
              "    <tr>\n",
              "      <th>1077</th>\n",
              "      <td>1075.0</td>\n",
              "      <td>2\\n\\nBuild A Mood Board In 5 Steps And We'll R...</td>\n",
              "      <td>Doctor or teacher?      This post was created ...</td>\n",
              "      <td>https://www.buzzfeed.com/purple8giraffe/build-...</td>\n",
              "    </tr>\n",
              "    <tr>\n",
              "      <th>1078</th>\n",
              "      <td>1076.0</td>\n",
              "      <td>3\\n\\nThe Candy You Choose Will Reveal Your Fav...</td>\n",
              "      <td>What's your go-to snack?      This post was cr...</td>\n",
              "      <td>https://www.buzzfeed.com/rheakurien/eat-nothin...</td>\n",
              "    </tr>\n",
              "    <tr>\n",
              "      <th>1079</th>\n",
              "      <td>1077.0</td>\n",
              "      <td>4\\n\\nWe Know Your Future Spouse's Name Based O...</td>\n",
              "      <td>James or Jennifer?      This post was created ...</td>\n",
              "      <td>https://www.buzzfeed.com/subwaysandwich/pick-a...</td>\n",
              "    </tr>\n",
              "    <tr>\n",
              "      <th>1080</th>\n",
              "      <td>1078.0</td>\n",
              "      <td>5\\n\\nDon't Freak Out When We Reveal What Age Y...</td>\n",
              "      <td>Have you already met the one?This post was cre...</td>\n",
              "      <td>https://www.buzzfeed.com/isabellalouise/take-t...</td>\n",
              "    </tr>\n",
              "    <tr>\n",
              "      <th>1081</th>\n",
              "      <td>1079.0</td>\n",
              "      <td>6\\n\\nEat Nothing But Ice Cream And We'll Guess...</td>\n",
              "      <td>Who knew rocky road had so many answers?      ...</td>\n",
              "      <td>https://www.buzzfeed.com/rheakurien/eat-nothin...</td>\n",
              "    </tr>\n",
              "    <tr>\n",
              "      <th>1082</th>\n",
              "      <td>1080.0</td>\n",
              "      <td>7\\n\\nCan You Match The Celebrity To Their Real...</td>\n",
              "      <td>Who?            Cardi B                    Tyg...</td>\n",
              "      <td>https://www.buzzfeed.com/chlgrne/can-you-match...</td>\n",
              "    </tr>\n",
              "    <tr>\n",
              "      <th>1083</th>\n",
              "      <td>1081.0</td>\n",
              "      <td>8\\n\\nEat Your Way Through The Day And We'll Gi...</td>\n",
              "      <td>No such thing as too much drama, right?      T...</td>\n",
              "      <td>https://www.buzzfeed.com/carolinegottlieb1/pic...</td>\n",
              "    </tr>\n",
              "    <tr>\n",
              "      <th>1084</th>\n",
              "      <td>1082.0</td>\n",
              "      <td>9\\n\\nWhich Eevee Evolution Are You Based On Yo...</td>\n",
              "      <td>Delicious food, I choose you!      This post w...</td>\n",
              "      <td>https://www.buzzfeed.com/macaron22/what-eevee-...</td>\n",
              "    </tr>\n",
              "    <tr>\n",
              "      <th>1085</th>\n",
              "      <td>1083.0</td>\n",
              "      <td>10\\n\\nDon't Freak Out When Your Halloween Plan...</td>\n",
              "      <td>\"Spooky scary skeletons...\"      This post was...</td>\n",
              "      <td>https://www.buzzfeed.com/icantfigureoutagoodus...</td>\n",
              "    </tr>\n",
              "    <tr>\n",
              "      <th>1086</th>\n",
              "      <td>1084.0</td>\n",
              "      <td>12\\n\\nTake This Quiz And We'll Tell You Which ...</td>\n",
              "      <td>Pumpkin or tomato?      This post was created ...</td>\n",
              "      <td>https://www.buzzfeed.com/nelllanela130/what-ki...</td>\n",
              "    </tr>\n",
              "    <tr>\n",
              "      <th>1087</th>\n",
              "      <td>1085.0</td>\n",
              "      <td>13\\n\\nChoose Your Favorite Disney Characters A...</td>\n",
              "      <td>Disney lovers only!      This post was created...</td>\n",
              "      <td>https://www.buzzfeed.com/hhii/well-tell-you-yo...</td>\n",
              "    </tr>\n",
              "    <tr>\n",
              "      <th>1088</th>\n",
              "      <td>1086.0</td>\n",
              "      <td>14\\n\\nWe'll Give You A Classic Romantic Movie ...</td>\n",
              "      <td>Food + Movies = 😍      This post was created b...</td>\n",
              "      <td>https://www.buzzfeed.com/goldengrahms/choose-s...</td>\n",
              "    </tr>\n",
              "    <tr>\n",
              "      <th>1089</th>\n",
              "      <td>1087.0</td>\n",
              "      <td>15\\n\\nWhich Recurring Character From \"Parks An...</td>\n",
              "      <td>\"I am legendary newswoman, Joan Callamezzo — n...</td>\n",
              "      <td>https://www.buzzfeed.com/rockelle/which-recurr...</td>\n",
              "    </tr>\n",
              "  </tbody>\n",
              "</table>\n",
              "<p>1084 rows × 4 columns</p>\n",
              "</div>"
            ],
            "text/plain": [
              "      Unnamed: 0  ...                                               Link\n",
              "0            0.0  ...  https://www.buzzfeednews.com/article/nicolengu...\n",
              "1            1.0  ...  https://www.buzzfeednews.com/article/clarissaj...\n",
              "2            2.0  ...  https://www.buzzfeednews.com/article/mikesalla...\n",
              "3            3.0  ...  https://www.buzzfeednews.com/article/katienoto...\n",
              "4            4.0  ...  https://www.buzzfeednews.com/article/henrygome...\n",
              "5            5.0  ...  https://www.buzzfeednews.com/article/ryanhates...\n",
              "6            6.0  ...  https://www.buzzfeednews.com/article/alexkantr...\n",
              "7            7.0  ...  https://www.buzzfeednews.com/article/ryancbroo...\n",
              "8            8.0  ...  https://www.buzzfeednews.com/article/davidmack...\n",
              "9            9.0  ...  https://www.buzzfeednews.com/article/tanyachen...\n",
              "10          10.0  ...  https://www.buzzfeednews.com/article/tasneemna...\n",
              "11          11.0  ...  https://www.buzzfeednews.com/article/michaelbl...\n",
              "12          12.0  ...  https://www.buzzfeednews.com/article/leoschwar...\n",
              "13          13.0  ...  https://www.buzzfeednews.com/article/laurenstr...\n",
              "14          14.0  ...  https://www.buzzfeednews.com/article/elaminabd...\n",
              "15          15.0  ...  https://www.buzzfeednews.com/article/nidhisubb...\n",
              "16          16.0  ...  https://www.buzzfeednews.com/article/krystieya...\n",
              "17          17.0  ...  https://www.buzzfeednews.com/article/sarahmimm...\n",
              "18          18.0  ...  https://www.buzzfeednews.com/article/gabrielsa...\n",
              "19          19.0  ...  https://www.buzzfeednews.com/article/briannasa...\n",
              "20          20.0  ...  https://www.buzzfeednews.com/article/juliarein...\n",
              "21          21.0  ...  https://www.buzzfeednews.com/article/zoetillma...\n",
              "22          22.0  ...  https://www.buzzfeednews.com/article/laurenstr...\n",
              "23          23.0  ...  https://www.buzzfeednews.com/article/henrygome...\n",
              "24          24.0  ...  https://www.buzzfeednews.com/article/tanyachen...\n",
              "25          25.0  ...  https://www.buzzfeednews.com/article/caitlindo...\n",
              "26          26.0  ...  https://www.buzzfeednews.com/article/juliarein...\n",
              "27          27.0  ...  https://www.buzzfeednews.com/article/danvergan...\n",
              "28          28.0  ...  https://www.buzzfeednews.com/article/ryanmac/u...\n",
              "29          29.0  ...  https://www.buzzfeednews.com/article/adolfoflo...\n",
              "...          ...  ...                                                ...\n",
              "1060      1058.0  ...  https://www.buzzfeed.com/jonmichaelpoff/world-...\n",
              "1061      1059.0  ...  https://www.buzzfeed.com/yeehawhowdy/pick-a-pe...\n",
              "1062      1060.0  ...  https://www.buzzfeed.com/stephenlaconte/cole-s...\n",
              "1063      1061.0  ...  https://www.buzzfeed.com/saadmatheus/are-you-g...\n",
              "1064      1062.0  ...  https://www.buzzfeed.com/artlife1254/can-i-gue...\n",
              "1065      1063.0  ...  https://www.buzzfeed.com/jamedjackson/build-an...\n",
              "1066      1064.0  ...  https://www.buzzfeed.com/bbri7/well-guess-whic...\n",
              "1067      1065.0  ...  https://www.buzzfeed.com/rheakurien/pick-a-bun...\n",
              "1068      1066.0  ...  https://www.buzzfeed.com/haaniholland/are-you-...\n",
              "1069      1067.0  ...  https://www.buzzfeed.com/bbri7/well-tell-you-w...\n",
              "1070      1068.0  ...  https://www.buzzfeed.com/samanthawieder/plan-y...\n",
              "1071      1069.0  ...  https://www.buzzfeed.com/jamiejirak1/quiz-are-...\n",
              "1072      1070.0  ...  https://www.buzzfeed.com/renskess/tell-us-your...\n",
              "1073      1071.0  ...  https://www.buzzfeed.com/rheakurien/the-interi...\n",
              "1074      1072.0  ...  https://www.buzzfeed.com/crazy_sagittarius/the...\n",
              "1075      1073.0  ...  https://www.buzzfeed.com/audreyworboys/famous-...\n",
              "1076      1074.0  ...  https://www.buzzfeed.com/freddie3000/this-marr...\n",
              "1077      1075.0  ...  https://www.buzzfeed.com/purple8giraffe/build-...\n",
              "1078      1076.0  ...  https://www.buzzfeed.com/rheakurien/eat-nothin...\n",
              "1079      1077.0  ...  https://www.buzzfeed.com/subwaysandwich/pick-a...\n",
              "1080      1078.0  ...  https://www.buzzfeed.com/isabellalouise/take-t...\n",
              "1081      1079.0  ...  https://www.buzzfeed.com/rheakurien/eat-nothin...\n",
              "1082      1080.0  ...  https://www.buzzfeed.com/chlgrne/can-you-match...\n",
              "1083      1081.0  ...  https://www.buzzfeed.com/carolinegottlieb1/pic...\n",
              "1084      1082.0  ...  https://www.buzzfeed.com/macaron22/what-eevee-...\n",
              "1085      1083.0  ...  https://www.buzzfeed.com/icantfigureoutagoodus...\n",
              "1086      1084.0  ...  https://www.buzzfeed.com/nelllanela130/what-ki...\n",
              "1087      1085.0  ...  https://www.buzzfeed.com/hhii/well-tell-you-yo...\n",
              "1088      1086.0  ...  https://www.buzzfeed.com/goldengrahms/choose-s...\n",
              "1089      1087.0  ...  https://www.buzzfeed.com/rockelle/which-recurr...\n",
              "\n",
              "[1084 rows x 4 columns]"
            ]
          },
          "metadata": {
            "tags": []
          },
          "execution_count": 32
        }
      ]
    },
    {
      "cell_type": "code",
      "metadata": {
        "id": "1RUR8LFNbIgi",
        "colab_type": "code",
        "colab": {}
      },
      "source": [
        "df['Title'] = df['Title'].str.replace(\"[^a-zA-Z#]\", \" \")"
      ],
      "execution_count": 0,
      "outputs": []
    },
    {
      "cell_type": "code",
      "metadata": {
        "id": "j-DUyss9WSLW",
        "colab_type": "code",
        "outputId": "90a79a5d-f202-46ad-cbd0-3bc9ec24be95",
        "colab": {
          "base_uri": "https://localhost:8080/",
          "height": 34
        }
      },
      "source": [
        "def sent_to_words(sentences):\n",
        "    for sent in sentences:\n",
        "        sent = re.sub('\\S*@\\S*\\s?', '', sent)  # remove emails\n",
        "        sent = re.sub('\\s+', ' ', sent)  # remove newline chars\n",
        "        sent = re.sub(\"\\'\", \"\", sent)  # remove single quotes\n",
        "        sent = gensim.utils.simple_preprocess(str(sent), deacc=True) \n",
        "        yield(sent)  \n",
        "# Convert to list\n",
        "data = df.Title.values.tolist()\n",
        "data_words = (sent_to_words(data))\n",
        "#data_words1 = list(data_words)\n",
        "data_words"
      ],
      "execution_count": 0,
      "outputs": [
        {
          "output_type": "execute_result",
          "data": {
            "text/plain": [
              "<generator object sent_to_words at 0x7fa0ff611888>"
            ]
          },
          "metadata": {
            "tags": []
          },
          "execution_count": 33
        }
      ]
    },
    {
      "cell_type": "code",
      "metadata": {
        "id": "-JH_IHqklkL4",
        "colab_type": "code",
        "outputId": "35053b88-0c9a-4c88-c8e4-ef84331acd1c",
        "colab": {
          "base_uri": "https://localhost:8080/",
          "height": 34
        }
      },
      "source": [
        "ls"
      ],
      "execution_count": 0,
      "outputs": [
        {
          "output_type": "stream",
          "text": [
            "'one (1).csv'   one.csv   \u001b[0m\u001b[01;34msample_data\u001b[0m/\n"
          ],
          "name": "stdout"
        }
      ]
    },
    {
      "cell_type": "code",
      "metadata": {
        "id": "4Dr1NLrBle2g",
        "colab_type": "code",
        "colab": {}
      },
      "source": [
        "df.to_json(r'one.json')"
      ],
      "execution_count": 0,
      "outputs": []
    },
    {
      "cell_type": "code",
      "metadata": {
        "id": "0tuwG_k6lw2N",
        "colab_type": "code",
        "outputId": "2eb1fa5f-51dd-4ab6-c132-ef33debdb453",
        "colab": {
          "base_uri": "https://localhost:8080/",
          "height": 34
        }
      },
      "source": [
        "ls"
      ],
      "execution_count": 0,
      "outputs": [
        {
          "output_type": "stream",
          "text": [
            "'one (1).csv'   one.csv   one.json   \u001b[0m\u001b[01;34msample_data\u001b[0m/\n"
          ],
          "name": "stdout"
        }
      ]
    },
    {
      "cell_type": "code",
      "metadata": {
        "id": "i_FcboMHpkRN",
        "colab_type": "code",
        "outputId": "4d196505-c51d-432b-dff4-f38bbf4fce0e",
        "colab": {
          "base_uri": "https://localhost:8080/",
          "height": 564
        }
      },
      "source": [
        "!pip install pyLDAvis"
      ],
      "execution_count": 0,
      "outputs": [
        {
          "output_type": "stream",
          "text": [
            "Collecting pyLDAvis\n",
            "\u001b[?25l  Downloading https://files.pythonhosted.org/packages/a5/3a/af82e070a8a96e13217c8f362f9a73e82d61ac8fff3a2561946a97f96266/pyLDAvis-2.1.2.tar.gz (1.6MB)\n",
            "\r\u001b[K     |▏                               | 10kB 14.1MB/s eta 0:00:01\r\u001b[K     |▍                               | 20kB 7.2MB/s eta 0:00:01\r\u001b[K     |▋                               | 30kB 9.9MB/s eta 0:00:01\r\u001b[K     |▉                               | 40kB 6.4MB/s eta 0:00:01\r\u001b[K     |█                               | 51kB 7.6MB/s eta 0:00:01\r\u001b[K     |█▏                              | 61kB 8.9MB/s eta 0:00:01\r\u001b[K     |█▍                              | 71kB 10.0MB/s eta 0:00:01\r\u001b[K     |█▋                              | 81kB 11.1MB/s eta 0:00:01\r\u001b[K     |█▉                              | 92kB 12.3MB/s eta 0:00:01\r\u001b[K     |██                              | 102kB 10.1MB/s eta 0:00:01\r\u001b[K     |██▎                             | 112kB 10.1MB/s eta 0:00:01\r\u001b[K     |██▍                             | 122kB 10.1MB/s eta 0:00:01\r\u001b[K     |██▋                             | 133kB 10.1MB/s eta 0:00:01\r\u001b[K     |██▉                             | 143kB 10.1MB/s eta 0:00:01\r\u001b[K     |███                             | 153kB 10.1MB/s eta 0:00:01\r\u001b[K     |███▎                            | 163kB 10.1MB/s eta 0:00:01\r\u001b[K     |███▌                            | 174kB 10.1MB/s eta 0:00:01\r\u001b[K     |███▋                            | 184kB 10.1MB/s eta 0:00:01\r\u001b[K     |███▉                            | 194kB 10.1MB/s eta 0:00:01\r\u001b[K     |████                            | 204kB 10.1MB/s eta 0:00:01\r\u001b[K     |████▎                           | 215kB 10.1MB/s eta 0:00:01\r\u001b[K     |████▌                           | 225kB 10.1MB/s eta 0:00:01\r\u001b[K     |████▊                           | 235kB 10.1MB/s eta 0:00:01\r\u001b[K     |████▉                           | 245kB 10.1MB/s eta 0:00:01\r\u001b[K     |█████                           | 256kB 10.1MB/s eta 0:00:01\r\u001b[K     |█████▎                          | 266kB 10.1MB/s eta 0:00:01\r\u001b[K     |█████▌                          | 276kB 10.1MB/s eta 0:00:01\r\u001b[K     |█████▊                          | 286kB 10.1MB/s eta 0:00:01\r\u001b[K     |█████▉                          | 296kB 10.1MB/s eta 0:00:01\r\u001b[K     |██████                          | 307kB 10.1MB/s eta 0:00:01\r\u001b[K     |██████▎                         | 317kB 10.1MB/s eta 0:00:01\r\u001b[K     |██████▌                         | 327kB 10.1MB/s eta 0:00:01\r\u001b[K     |██████▊                         | 337kB 10.1MB/s eta 0:00:01\r\u001b[K     |███████                         | 348kB 10.1MB/s eta 0:00:01\r\u001b[K     |███████                         | 358kB 10.1MB/s eta 0:00:01\r\u001b[K     |███████▎                        | 368kB 10.1MB/s eta 0:00:01\r\u001b[K     |███████▌                        | 378kB 10.1MB/s eta 0:00:01\r\u001b[K     |███████▊                        | 389kB 10.1MB/s eta 0:00:01\r\u001b[K     |████████                        | 399kB 10.1MB/s eta 0:00:01\r\u001b[K     |████████▏                       | 409kB 10.1MB/s eta 0:00:01\r\u001b[K     |████████▎                       | 419kB 10.1MB/s eta 0:00:01\r\u001b[K     |████████▌                       | 430kB 10.1MB/s eta 0:00:01\r\u001b[K     |████████▊                       | 440kB 10.1MB/s eta 0:00:01\r\u001b[K     |█████████                       | 450kB 10.1MB/s eta 0:00:01\r\u001b[K     |█████████▏                      | 460kB 10.1MB/s eta 0:00:01\r\u001b[K     |█████████▍                      | 471kB 10.1MB/s eta 0:00:01\r\u001b[K     |█████████▌                      | 481kB 10.1MB/s eta 0:00:01\r\u001b[K     |█████████▊                      | 491kB 10.1MB/s eta 0:00:01\r\u001b[K     |██████████                      | 501kB 10.1MB/s eta 0:00:01\r\u001b[K     |██████████▏                     | 512kB 10.1MB/s eta 0:00:01\r\u001b[K     |██████████▍                     | 522kB 10.1MB/s eta 0:00:01\r\u001b[K     |██████████▋                     | 532kB 10.1MB/s eta 0:00:01\r\u001b[K     |██████████▊                     | 542kB 10.1MB/s eta 0:00:01\r\u001b[K     |███████████                     | 552kB 10.1MB/s eta 0:00:01\r\u001b[K     |███████████▏                    | 563kB 10.1MB/s eta 0:00:01\r\u001b[K     |███████████▍                    | 573kB 10.1MB/s eta 0:00:01\r\u001b[K     |███████████▋                    | 583kB 10.1MB/s eta 0:00:01\r\u001b[K     |███████████▊                    | 593kB 10.1MB/s eta 0:00:01\r\u001b[K     |████████████                    | 604kB 10.1MB/s eta 0:00:01\r\u001b[K     |████████████▏                   | 614kB 10.1MB/s eta 0:00:01\r\u001b[K     |████████████▍                   | 624kB 10.1MB/s eta 0:00:01\r\u001b[K     |████████████▋                   | 634kB 10.1MB/s eta 0:00:01\r\u001b[K     |████████████▉                   | 645kB 10.1MB/s eta 0:00:01\r\u001b[K     |█████████████                   | 655kB 10.1MB/s eta 0:00:01\r\u001b[K     |█████████████▏                  | 665kB 10.1MB/s eta 0:00:01\r\u001b[K     |█████████████▍                  | 675kB 10.1MB/s eta 0:00:01\r\u001b[K     |█████████████▋                  | 686kB 10.1MB/s eta 0:00:01\r\u001b[K     |█████████████▉                  | 696kB 10.1MB/s eta 0:00:01\r\u001b[K     |██████████████                  | 706kB 10.1MB/s eta 0:00:01\r\u001b[K     |██████████████▏                 | 716kB 10.1MB/s eta 0:00:01\r\u001b[K     |██████████████▍                 | 727kB 10.1MB/s eta 0:00:01\r\u001b[K     |██████████████▋                 | 737kB 10.1MB/s eta 0:00:01\r\u001b[K     |██████████████▉                 | 747kB 10.1MB/s eta 0:00:01\r\u001b[K     |███████████████                 | 757kB 10.1MB/s eta 0:00:01\r\u001b[K     |███████████████▎                | 768kB 10.1MB/s eta 0:00:01\r\u001b[K     |███████████████▍                | 778kB 10.1MB/s eta 0:00:01\r\u001b[K     |███████████████▋                | 788kB 10.1MB/s eta 0:00:01\r\u001b[K     |███████████████▉                | 798kB 10.1MB/s eta 0:00:01\r\u001b[K     |████████████████                | 808kB 10.1MB/s eta 0:00:01\r\u001b[K     |████████████████▎               | 819kB 10.1MB/s eta 0:00:01\r\u001b[K     |████████████████▌               | 829kB 10.1MB/s eta 0:00:01\r\u001b[K     |████████████████▋               | 839kB 10.1MB/s eta 0:00:01\r\u001b[K     |████████████████▉               | 849kB 10.1MB/s eta 0:00:01\r\u001b[K     |█████████████████               | 860kB 10.1MB/s eta 0:00:01\r\u001b[K     |█████████████████▎              | 870kB 10.1MB/s eta 0:00:01\r\u001b[K     |█████████████████▌              | 880kB 10.1MB/s eta 0:00:01\r\u001b[K     |█████████████████▋              | 890kB 10.1MB/s eta 0:00:01\r\u001b[K     |█████████████████▉              | 901kB 10.1MB/s eta 0:00:01\r\u001b[K     |██████████████████              | 911kB 10.1MB/s eta 0:00:01\r\u001b[K     |██████████████████▎             | 921kB 10.1MB/s eta 0:00:01\r\u001b[K     |██████████████████▌             | 931kB 10.1MB/s eta 0:00:01\r\u001b[K     |██████████████████▊             | 942kB 10.1MB/s eta 0:00:01\r\u001b[K     |██████████████████▉             | 952kB 10.1MB/s eta 0:00:01\r\u001b[K     |███████████████████             | 962kB 10.1MB/s eta 0:00:01\r\u001b[K     |███████████████████▎            | 972kB 10.1MB/s eta 0:00:01\r\u001b[K     |███████████████████▌            | 983kB 10.1MB/s eta 0:00:01\r\u001b[K     |███████████████████▊            | 993kB 10.1MB/s eta 0:00:01\r\u001b[K     |████████████████████            | 1.0MB 10.1MB/s eta 0:00:01\r\u001b[K     |████████████████████            | 1.0MB 10.1MB/s eta 0:00:01\r\u001b[K     |████████████████████▎           | 1.0MB 10.1MB/s eta 0:00:01\r\u001b[K     |████████████████████▌           | 1.0MB 10.1MB/s eta 0:00:01\r\u001b[K     |████████████████████▊           | 1.0MB 10.1MB/s eta 0:00:01\r\u001b[K     |█████████████████████           | 1.1MB 10.1MB/s eta 0:00:01\r\u001b[K     |█████████████████████▏          | 1.1MB 10.1MB/s eta 0:00:01\r\u001b[K     |█████████████████████▎          | 1.1MB 10.1MB/s eta 0:00:01\r\u001b[K     |█████████████████████▌          | 1.1MB 10.1MB/s eta 0:00:01\r\u001b[K     |█████████████████████▊          | 1.1MB 10.1MB/s eta 0:00:01\r\u001b[K     |██████████████████████          | 1.1MB 10.1MB/s eta 0:00:01\r\u001b[K     |██████████████████████▏         | 1.1MB 10.1MB/s eta 0:00:01\r\u001b[K     |██████████████████████▍         | 1.1MB 10.1MB/s eta 0:00:01\r\u001b[K     |██████████████████████▌         | 1.1MB 10.1MB/s eta 0:00:01\r\u001b[K     |██████████████████████▊         | 1.1MB 10.1MB/s eta 0:00:01\r\u001b[K     |███████████████████████         | 1.2MB 10.1MB/s eta 0:00:01\r\u001b[K     |███████████████████████▏        | 1.2MB 10.1MB/s eta 0:00:01\r\u001b[K     |███████████████████████▍        | 1.2MB 10.1MB/s eta 0:00:01\r\u001b[K     |███████████████████████▌        | 1.2MB 10.1MB/s eta 0:00:01\r\u001b[K     |███████████████████████▊        | 1.2MB 10.1MB/s eta 0:00:01\r\u001b[K     |████████████████████████        | 1.2MB 10.1MB/s eta 0:00:01\r\u001b[K     |████████████████████████▏       | 1.2MB 10.1MB/s eta 0:00:01\r\u001b[K     |████████████████████████▍       | 1.2MB 10.1MB/s eta 0:00:01\r\u001b[K     |████████████████████████▋       | 1.2MB 10.1MB/s eta 0:00:01\r\u001b[K     |████████████████████████▊       | 1.2MB 10.1MB/s eta 0:00:01\r\u001b[K     |█████████████████████████       | 1.3MB 10.1MB/s eta 0:00:01\r\u001b[K     |█████████████████████████▏      | 1.3MB 10.1MB/s eta 0:00:01\r\u001b[K     |█████████████████████████▍      | 1.3MB 10.1MB/s eta 0:00:01\r\u001b[K     |█████████████████████████▋      | 1.3MB 10.1MB/s eta 0:00:01\r\u001b[K     |█████████████████████████▉      | 1.3MB 10.1MB/s eta 0:00:01\r\u001b[K     |██████████████████████████      | 1.3MB 10.1MB/s eta 0:00:01\r\u001b[K     |██████████████████████████▏     | 1.3MB 10.1MB/s eta 0:00:01\r\u001b[K     |██████████████████████████▍     | 1.3MB 10.1MB/s eta 0:00:01\r\u001b[K     |██████████████████████████▋     | 1.3MB 10.1MB/s eta 0:00:01\r\u001b[K     |██████████████████████████▉     | 1.4MB 10.1MB/s eta 0:00:01\r\u001b[K     |███████████████████████████     | 1.4MB 10.1MB/s eta 0:00:01\r\u001b[K     |███████████████████████████▏    | 1.4MB 10.1MB/s eta 0:00:01\r\u001b[K     |███████████████████████████▍    | 1.4MB 10.1MB/s eta 0:00:01\r\u001b[K     |███████████████████████████▋    | 1.4MB 10.1MB/s eta 0:00:01\r\u001b[K     |███████████████████████████▉    | 1.4MB 10.1MB/s eta 0:00:01\r\u001b[K     |████████████████████████████    | 1.4MB 10.1MB/s eta 0:00:01\r\u001b[K     |████████████████████████████▏   | 1.4MB 10.1MB/s eta 0:00:01\r\u001b[K     |████████████████████████████▍   | 1.4MB 10.1MB/s eta 0:00:01\r\u001b[K     |████████████████████████████▋   | 1.4MB 10.1MB/s eta 0:00:01\r\u001b[K     |████████████████████████████▉   | 1.5MB 10.1MB/s eta 0:00:01\r\u001b[K     |█████████████████████████████   | 1.5MB 10.1MB/s eta 0:00:01\r\u001b[K     |█████████████████████████████▎  | 1.5MB 10.1MB/s eta 0:00:01\r\u001b[K     |█████████████████████████████▍  | 1.5MB 10.1MB/s eta 0:00:01\r\u001b[K     |█████████████████████████████▋  | 1.5MB 10.1MB/s eta 0:00:01\r\u001b[K     |█████████████████████████████▉  | 1.5MB 10.1MB/s eta 0:00:01\r\u001b[K     |██████████████████████████████  | 1.5MB 10.1MB/s eta 0:00:01\r\u001b[K     |██████████████████████████████▎ | 1.5MB 10.1MB/s eta 0:00:01\r\u001b[K     |██████████████████████████████▌ | 1.5MB 10.1MB/s eta 0:00:01\r\u001b[K     |██████████████████████████████▋ | 1.5MB 10.1MB/s eta 0:00:01\r\u001b[K     |██████████████████████████████▉ | 1.6MB 10.1MB/s eta 0:00:01\r\u001b[K     |███████████████████████████████ | 1.6MB 10.1MB/s eta 0:00:01\r\u001b[K     |███████████████████████████████▎| 1.6MB 10.1MB/s eta 0:00:01\r\u001b[K     |███████████████████████████████▌| 1.6MB 10.1MB/s eta 0:00:01\r\u001b[K     |███████████████████████████████▊| 1.6MB 10.1MB/s eta 0:00:01\r\u001b[K     |███████████████████████████████▉| 1.6MB 10.1MB/s eta 0:00:01\r\u001b[K     |████████████████████████████████| 1.6MB 10.1MB/s \n",
            "\u001b[?25hRequirement already satisfied: wheel>=0.23.0 in /usr/local/lib/python3.6/dist-packages (from pyLDAvis) (0.33.6)\n",
            "Requirement already satisfied: numpy>=1.9.2 in /usr/local/lib/python3.6/dist-packages (from pyLDAvis) (1.16.5)\n",
            "Requirement already satisfied: scipy>=0.18.0 in /usr/local/lib/python3.6/dist-packages (from pyLDAvis) (1.3.1)\n",
            "Requirement already satisfied: pandas>=0.17.0 in /usr/local/lib/python3.6/dist-packages (from pyLDAvis) (0.24.2)\n",
            "Requirement already satisfied: joblib>=0.8.4 in /usr/local/lib/python3.6/dist-packages (from pyLDAvis) (0.14.0)\n",
            "Requirement already satisfied: jinja2>=2.7.2 in /usr/local/lib/python3.6/dist-packages (from pyLDAvis) (2.10.3)\n",
            "Requirement already satisfied: numexpr in /usr/local/lib/python3.6/dist-packages (from pyLDAvis) (2.7.0)\n",
            "Requirement already satisfied: pytest in /usr/local/lib/python3.6/dist-packages (from pyLDAvis) (3.6.4)\n",
            "Requirement already satisfied: future in /usr/local/lib/python3.6/dist-packages (from pyLDAvis) (0.16.0)\n",
            "Collecting funcy (from pyLDAvis)\n",
            "  Downloading https://files.pythonhosted.org/packages/eb/3a/fc8323f913e8a9c6f33f7203547f8a2171223da5ed965f2541dafb10aa09/funcy-1.13-py2.py3-none-any.whl\n",
            "Requirement already satisfied: python-dateutil>=2.5.0 in /usr/local/lib/python3.6/dist-packages (from pandas>=0.17.0->pyLDAvis) (2.5.3)\n",
            "Requirement already satisfied: pytz>=2011k in /usr/local/lib/python3.6/dist-packages (from pandas>=0.17.0->pyLDAvis) (2018.9)\n",
            "Requirement already satisfied: MarkupSafe>=0.23 in /usr/local/lib/python3.6/dist-packages (from jinja2>=2.7.2->pyLDAvis) (1.1.1)\n",
            "Requirement already satisfied: more-itertools>=4.0.0 in /usr/local/lib/python3.6/dist-packages (from pytest->pyLDAvis) (7.2.0)\n",
            "Requirement already satisfied: py>=1.5.0 in /usr/local/lib/python3.6/dist-packages (from pytest->pyLDAvis) (1.8.0)\n",
            "Requirement already satisfied: atomicwrites>=1.0 in /usr/local/lib/python3.6/dist-packages (from pytest->pyLDAvis) (1.3.0)\n",
            "Requirement already satisfied: setuptools in /usr/local/lib/python3.6/dist-packages (from pytest->pyLDAvis) (41.2.0)\n",
            "Requirement already satisfied: six>=1.10.0 in /usr/local/lib/python3.6/dist-packages (from pytest->pyLDAvis) (1.12.0)\n",
            "Requirement already satisfied: attrs>=17.4.0 in /usr/local/lib/python3.6/dist-packages (from pytest->pyLDAvis) (19.2.0)\n",
            "Requirement already satisfied: pluggy<0.8,>=0.5 in /usr/local/lib/python3.6/dist-packages (from pytest->pyLDAvis) (0.7.1)\n",
            "Building wheels for collected packages: pyLDAvis\n",
            "  Building wheel for pyLDAvis (setup.py) ... \u001b[?25l\u001b[?25hdone\n",
            "  Created wheel for pyLDAvis: filename=pyLDAvis-2.1.2-py2.py3-none-any.whl size=97711 sha256=e556ae471df94d21d391638c17adc478610231b35a484e39cab9d0d2420e03d5\n",
            "  Stored in directory: /root/.cache/pip/wheels/98/71/24/513a99e58bb6b8465bae4d2d5e9dba8f0bef8179e3051ac414\n",
            "Successfully built pyLDAvis\n",
            "Installing collected packages: funcy, pyLDAvis\n",
            "Successfully installed funcy-1.13 pyLDAvis-2.1.2\n"
          ],
          "name": "stdout"
        }
      ]
    },
    {
      "cell_type": "code",
      "metadata": {
        "id": "QYeiHDJheWkw",
        "colab_type": "code",
        "colab": {}
      },
      "source": [
        "import pyLDAvis\n",
        "import pyLDAvis.sklearn\n",
        "pyLDAvis.enable_notebook()"
      ],
      "execution_count": 0,
      "outputs": []
    },
    {
      "cell_type": "code",
      "metadata": {
        "id": "HuqzeuHcpeQa",
        "colab_type": "code",
        "colab": {}
      },
      "source": [
        "from sklearn.feature_extraction.text import CountVectorizer, TfidfVectorizer\n",
        "from sklearn.decomposition import LatentDirichletAllocation"
      ],
      "execution_count": 0,
      "outputs": []
    },
    {
      "cell_type": "code",
      "metadata": {
        "id": "BlZEfqfaps6K",
        "colab_type": "code",
        "outputId": "26fefc25-3b5e-4845-e240-77a90300f34b",
        "colab": {
          "base_uri": "https://localhost:8080/",
          "height": 34
        }
      },
      "source": [
        "#titlesgroups = df(remove=('headers', 'footers', 'quotes'))\n",
        "docs_raw = df.Title\n",
        "print(len(docs_raw))"
      ],
      "execution_count": 0,
      "outputs": [
        {
          "output_type": "stream",
          "text": [
            "1090\n"
          ],
          "name": "stdout"
        }
      ]
    },
    {
      "cell_type": "code",
      "metadata": {
        "id": "9lDVt5ylp6Qv",
        "colab_type": "code",
        "outputId": "171b9b37-7801-477c-f428-d943d38293bb",
        "colab": {
          "base_uri": "https://localhost:8080/",
          "height": 34
        }
      },
      "source": [
        "tf_vectorizer = CountVectorizer(strip_accents = 'unicode',\n",
        "                                stop_words = 'english',\n",
        "                                lowercase = True,\n",
        "                                token_pattern = r'\\b[a-zA-Z]{3,}\\b',\n",
        "                                max_df = 0.5, \n",
        "                                min_df = 10)\n",
        "dtm_tf = tf_vectorizer.fit_transform(df['Title'].values.astype('U'))   #docs_raw)\n",
        "print(dtm_tf.shape)\n",
        "#x = v.fit_transform(df['Review'].values.astype('U'))"
      ],
      "execution_count": 0,
      "outputs": [
        {
          "output_type": "stream",
          "text": [
            "(1090, 127)\n"
          ],
          "name": "stdout"
        }
      ]
    },
    {
      "cell_type": "code",
      "metadata": {
        "id": "7kCUI-3aqosM",
        "colab_type": "code",
        "outputId": "7d6ec5e8-83d2-4e31-a0a9-baaba08dbd01",
        "colab": {
          "base_uri": "https://localhost:8080/",
          "height": 88
        }
      },
      "source": [
        "tfidf_vectorizer = TfidfVectorizer(**tf_vectorizer.get_params())\n",
        "dtm_tfidf = tfidf_vectorizer.fit_transform(df['Title'].values.astype('U')) \n",
        "print(dtm_tfidf.shape)"
      ],
      "execution_count": 0,
      "outputs": [
        {
          "output_type": "stream",
          "text": [
            "(1090, 127)\n"
          ],
          "name": "stdout"
        },
        {
          "output_type": "stream",
          "text": [
            "/usr/local/lib/python3.6/dist-packages/sklearn/feature_extraction/text.py:1616: UserWarning: Only (<class 'numpy.float64'>, <class 'numpy.float32'>, <class 'numpy.float16'>) 'dtype' should be used. <class 'numpy.int64'> 'dtype' will be converted to np.float64.\n",
            "  UserWarning)\n"
          ],
          "name": "stderr"
        }
      ]
    },
    {
      "cell_type": "code",
      "metadata": {
        "id": "stC-i_LEsk-j",
        "colab_type": "code",
        "outputId": "901b8581-0f75-4207-cf31-63166e8d9a98",
        "colab": {
          "base_uri": "https://localhost:8080/",
          "height": 136
        }
      },
      "source": [
        "# for TF DTM\n",
        "lda_tf = LatentDirichletAllocation(n_components=5, random_state=0)    #n_components = can depend\n",
        "lda_tf.fit(dtm_tf)\n",
        "# for TFIDF DTM\n",
        "lda_tfidf = LatentDirichletAllocation(n_components=5, random_state=0)\n",
        "lda_tfidf.fit(dtm_tfidf)"
      ],
      "execution_count": 0,
      "outputs": [
        {
          "output_type": "execute_result",
          "data": {
            "text/plain": [
              "LatentDirichletAllocation(batch_size=128, doc_topic_prior=None,\n",
              "                          evaluate_every=-1, learning_decay=0.7,\n",
              "                          learning_method='batch', learning_offset=10.0,\n",
              "                          max_doc_update_iter=100, max_iter=10,\n",
              "                          mean_change_tol=0.001, n_components=5, n_jobs=None,\n",
              "                          perp_tol=0.1, random_state=0, topic_word_prior=None,\n",
              "                          total_samples=1000000.0, verbose=0)"
            ]
          },
          "metadata": {
            "tags": []
          },
          "execution_count": 55
        }
      ]
    },
    {
      "cell_type": "code",
      "metadata": {
        "id": "00FOAywgs0Ro",
        "colab_type": "code",
        "outputId": "45b6211b-04ca-4344-d71c-2404c293ee02",
        "colab": {
          "base_uri": "https://localhost:8080/",
          "height": 1000
        }
      },
      "source": [
        "pyLDAvis.sklearn.prepare(lda_tf, dtm_tf, tf_vectorizer)"
      ],
      "execution_count": 0,
      "outputs": [
        {
          "output_type": "stream",
          "text": [
            "/usr/local/lib/python3.6/dist-packages/pyLDAvis/_prepare.py:257: FutureWarning: Sorting because non-concatenation axis is not aligned. A future version\n",
            "of pandas will change to not sort by default.\n",
            "\n",
            "To accept the future behavior, pass 'sort=False'.\n",
            "\n",
            "To retain the current behavior and silence the warning, pass 'sort=True'.\n",
            "\n",
            "  return pd.concat([default_term_info] + list(topic_dfs))\n"
          ],
          "name": "stderr"
        },
        {
          "output_type": "execute_result",
          "data": {
            "text/html": [
              "\n",
              "<link rel=\"stylesheet\" type=\"text/css\" href=\"https://cdn.rawgit.com/bmabey/pyLDAvis/files/ldavis.v1.0.0.css\">\n",
              "\n",
              "\n",
              "<div id=\"ldavis_el1211403294073096489445286544\"></div>\n",
              "<script type=\"text/javascript\">\n",
              "\n",
              "var ldavis_el1211403294073096489445286544_data = {\"mdsDat\": {\"x\": [0.2554000664045785, -0.0968130159341864, -0.2447290714208187, 0.21815565290178418, -0.1320136319513579], \"y\": [-0.019973849583535448, -0.11000858562495067, -0.1641206428158824, -0.019671678128916483, 0.31377475615328493], \"topics\": [1, 2, 3, 4, 5], \"cluster\": [1, 1, 1, 1, 1], \"Freq\": [22.26399398162344, 21.534018981853357, 20.26163643626767, 19.245355715536686, 16.69499488471884]}, \"tinfo\": {\"Category\": [\"Default\", \"Default\", \"Default\", \"Default\", \"Default\", \"Default\", \"Default\", \"Default\", \"Default\", \"Default\", \"Default\", \"Default\", \"Default\", \"Default\", \"Default\", \"Default\", \"Default\", \"Default\", \"Default\", \"Default\", \"Default\", \"Default\", \"Default\", \"Default\", \"Default\", \"Default\", \"Default\", \"Default\", \"Default\", \"Default\", \"Topic1\", \"Topic1\", \"Topic1\", \"Topic1\", \"Topic1\", \"Topic1\", \"Topic1\", \"Topic1\", \"Topic1\", \"Topic1\", \"Topic1\", \"Topic1\", \"Topic1\", \"Topic1\", \"Topic1\", \"Topic1\", \"Topic1\", \"Topic1\", \"Topic1\", \"Topic1\", \"Topic1\", \"Topic1\", \"Topic1\", \"Topic1\", \"Topic1\", \"Topic1\", \"Topic1\", \"Topic1\", \"Topic1\", \"Topic1\", \"Topic1\", \"Topic1\", \"Topic1\", \"Topic2\", \"Topic2\", \"Topic2\", \"Topic2\", \"Topic2\", \"Topic2\", \"Topic2\", \"Topic2\", \"Topic2\", \"Topic2\", \"Topic2\", \"Topic2\", \"Topic2\", \"Topic2\", \"Topic2\", \"Topic2\", \"Topic2\", \"Topic2\", \"Topic2\", \"Topic2\", \"Topic2\", \"Topic2\", \"Topic2\", \"Topic2\", \"Topic2\", \"Topic2\", \"Topic2\", \"Topic2\", \"Topic2\", \"Topic2\", \"Topic2\", \"Topic2\", \"Topic2\", \"Topic2\", \"Topic2\", \"Topic3\", \"Topic3\", \"Topic3\", \"Topic3\", \"Topic3\", \"Topic3\", \"Topic3\", \"Topic3\", \"Topic3\", \"Topic3\", \"Topic3\", \"Topic3\", \"Topic3\", \"Topic3\", \"Topic3\", \"Topic3\", \"Topic3\", \"Topic3\", \"Topic3\", \"Topic3\", \"Topic3\", \"Topic3\", \"Topic3\", \"Topic3\", \"Topic3\", \"Topic3\", \"Topic3\", \"Topic3\", \"Topic3\", \"Topic3\", \"Topic3\", \"Topic3\", \"Topic4\", \"Topic4\", \"Topic4\", \"Topic4\", \"Topic4\", \"Topic4\", \"Topic4\", \"Topic4\", \"Topic4\", \"Topic4\", \"Topic4\", \"Topic4\", \"Topic4\", \"Topic4\", \"Topic4\", \"Topic4\", \"Topic4\", \"Topic4\", \"Topic4\", \"Topic4\", \"Topic4\", \"Topic4\", \"Topic4\", \"Topic4\", \"Topic4\", \"Topic4\", \"Topic4\", \"Topic4\", \"Topic4\", \"Topic4\", \"Topic4\", \"Topic5\", \"Topic5\", \"Topic5\", \"Topic5\", \"Topic5\", \"Topic5\", \"Topic5\", \"Topic5\", \"Topic5\", \"Topic5\", \"Topic5\", \"Topic5\", \"Topic5\", \"Topic5\", \"Topic5\", \"Topic5\", \"Topic5\", \"Topic5\", \"Topic5\", \"Topic5\", \"Topic5\", \"Topic5\", \"Topic5\", \"Topic5\", \"Topic5\", \"Topic5\", \"Topic5\", \"Topic5\", \"Topic5\", \"Topic5\", \"Topic5\", \"Topic5\"], \"Freq\": [70.0, 38.0, 72.0, 37.0, 39.0, 31.0, 35.0, 68.0, 64.0, 27.0, 56.0, 24.0, 27.0, 31.0, 24.0, 24.0, 21.0, 19.0, 22.0, 22.0, 22.0, 19.0, 30.0, 33.0, 21.0, 32.0, 18.0, 20.0, 15.0, 15.0, 39.05475213509858, 34.323216299237494, 26.70282787169972, 23.890919600320057, 23.88184583150854, 18.203133081962473, 17.25624452155832, 18.143951988323217, 13.463236663675275, 11.566596539457835, 10.619534781384786, 9.671370786407959, 9.671286261622782, 9.670832152257566, 15.397717673241146, 7.713896922404995, 24.571570986072174, 7.625098400919542, 9.660927186772648, 10.635574699515475, 47.59890892846083, 7.793521234176661, 5.888657308880212, 35.26687682354505, 5.879590835766192, 6.837047452416288, 6.4334169045265455, 3.9757468938720955, 4.639997462893555, 4.4616067362821425, 6.784664904733584, 5.299152490928997, 5.4517329749234085, 20.600171098427822, 17.820025873461276, 15.034140823640266, 14.105750356642284, 13.178786192038462, 13.17825256941906, 13.175923034705766, 13.1090435986987, 11.3210911445443, 11.32049396300765, 10.395092678477186, 10.394768929025817, 10.394758472995173, 10.3943971077296, 10.392705847424299, 10.39186283680881, 9.46588885885595, 9.46482217434469, 11.323972855909398, 23.15478054543136, 6.682456371365734, 16.7110243233682, 6.692211666404163, 35.34101775359622, 7.594449911190945, 8.535373041757506, 6.687793699008754, 8.54774884627565, 5.751979287769858, 7.401454666097876, 19.74631418364084, 9.529726749153575, 17.7705063780739, 11.475263667703407, 7.58368223619317, 21.867028077688943, 21.867028077688943, 21.866856207483185, 17.346585063725414, 16.44192168071296, 15.541147171576059, 13.734573466676224, 12.830240826228751, 12.825000519600087, 10.118489591519497, 10.117675386519652, 10.114715955037106, 10.114102407345412, 9.216171460297797, 25.88307352821729, 22.808140530253784, 51.73461766123365, 8.297712086840283, 7.412365690873009, 8.305810826049772, 6.287116676047996, 7.862226169971157, 39.416615196139915, 12.769890832659396, 6.505164012455004, 4.69546950851209, 4.698969245437224, 8.634399517116032, 5.705331983236237, 3.778489068142997, 6.689138660441417, 6.579879059003463, 37.198776298345216, 26.75936671412121, 23.91231566991633, 21.06593821271732, 19.168102798332754, 14.42302767264155, 14.421512600708981, 14.419987475894443, 13.473714896518386, 12.525524097384382, 11.57500831820527, 10.627931087225106, 10.627523853078271, 11.367764135619808, 14.227059989402697, 16.932743134555594, 9.199579156711211, 6.833378812757682, 17.115155833457713, 6.835264420297003, 8.174948398659772, 36.253642874727895, 4.924668325254094, 3.9673265652590275, 3.9990992619043224, 3.2630149186849384, 16.076164797903594, 8.793999517701836, 3.9702250745537064, 8.050038780162138, 8.57345332073258, 37.742061335688206, 30.419044804842635, 18.977893078296482, 14.80565018885516, 14.802658419217654, 13.759075139277304, 12.72099580121855, 12.7203495277475, 11.6788989742815, 11.6788989742815, 11.6788989742815, 10.63387443678361, 16.145663217289627, 13.577686998165028, 9.610555006772167, 9.61146186223035, 9.34977601389592, 11.560135885478772, 7.527235484298972, 13.791180002171867, 17.882963594297255, 11.312499470823033, 8.537977608471055, 6.460211081080098, 4.396166288904426, 4.400482715462789, 3.3499664899870805, 2.286855520204748, 5.423097252280124, 4.393939503822249, 4.773898372677379, 4.903104103157834], \"Term\": [\"trump\", \"old\", \"reveal\", \"quiz\", \"just\", \"year\", \"guess\", \"based\", \"people\", \"make\", \"know\", \"personality\", \"food\", \"character\", \"best\", \"favorite\", \"girl\", \"murder\", \"hong\", \"kong\", \"ukraine\", \"amazon\", \"like\", \"tell\", \"wedding\", \"things\", \"actually\", \"halloween\", \"way\", \"police\", \"just\", \"guess\", \"food\", \"best\", \"favorite\", \"season\", \"choose\", \"preferences\", \"build\", \"incoming\", \"soulmate\", \"relationship\", \"aesthetic\", \"country\", \"age\", \"pick\", \"tell\", \"need\", \"time\", \"characters\", \"based\", \"state\", \"freak\", \"reveal\", \"don\", \"movies\", \"color\", \"climate\", \"photos\", \"disney\", \"like\", \"eat\", \"character\", \"wedding\", \"case\", \"days\", \"week\", \"asylum\", \"court\", \"joe\", \"tried\", \"questions\", \"tweets\", \"family\", \"supreme\", \"big\", \"sent\", \"baby\", \"man\", \"fake\", \"wear\", \"government\", \"things\", \"jury\", \"said\", \"house\", \"know\", \"love\", \"judge\", \"climate\", \"good\", \"bunch\", \"future\", \"people\", \"biden\", \"trump\", \"based\", \"woman\", \"kong\", \"hong\", \"ukraine\", \"actually\", \"world\", \"fans\", \"protesters\", \"impeachment\", \"celebrity\", \"accused\", \"help\", \"makeup\", \"city\", \"turned\", \"character\", \"like\", \"trump\", \"pictures\", \"giuliani\", \"called\", \"use\", \"wants\", \"people\", \"biden\", \"photos\", \"bad\", \"judge\", \"products\", \"years\", \"key\", \"new\", \"won\", \"quiz\", \"make\", \"personality\", \"girl\", \"amazon\", \"probably\", \"life\", \"instagram\", \"star\", \"plan\", \"want\", \"fall\", \"matches\", \"hair\", \"new\", \"products\", \"disney\", \"school\", \"day\", \"high\", \"color\", \"reveal\", \"freak\", \"think\", \"love\", \"use\", \"know\", \"things\", \"good\", \"tell\", \"based\", \"old\", \"year\", \"murder\", \"way\", \"police\", \"watch\", \"suing\", \"charged\", \"prize\", \"nobel\", \"scientists\", \"got\", \"halloween\", \"killed\", \"harry\", \"movie\", \"men\", \"years\", \"key\", \"woman\", \"won\", \"eat\", \"movies\", \"don\", \"deal\", \"bad\", \"pictures\", \"bunch\", \"day\", \"said\", \"know\", \"people\"], \"Total\": [70.0, 38.0, 72.0, 37.0, 39.0, 31.0, 35.0, 68.0, 64.0, 27.0, 56.0, 24.0, 27.0, 31.0, 24.0, 24.0, 21.0, 19.0, 22.0, 22.0, 22.0, 19.0, 30.0, 33.0, 21.0, 32.0, 18.0, 20.0, 15.0, 15.0, 39.82997000585374, 35.08878651131659, 27.506720931033353, 24.658807779300233, 24.658815000018418, 18.969731945763005, 18.02155341236127, 18.969927126828903, 14.228824283514417, 12.332549721253569, 11.38430942266572, 10.436130099531047, 10.43612772227732, 10.436120071551914, 18.910437584914042, 10.394812196270987, 33.19910004030379, 10.39299096191608, 13.283280555049876, 15.097179700582181, 68.03839614406333, 11.251534211710243, 11.388300909064318, 72.09806567105758, 12.899544972965064, 15.932655090865186, 15.18373579456168, 11.243860389104015, 14.799274368958953, 14.236428014174919, 30.18020309653355, 20.92841294767556, 31.924891671125543, 21.373485784508244, 18.588973759319646, 15.804757235105269, 14.876432782317806, 13.948278208011237, 13.948339061650877, 13.94829219881302, 13.956613216963992, 12.092018311300736, 12.092081627429957, 11.163863225074198, 11.163869734576677, 11.163870172753484, 11.163949776778866, 11.163899044854261, 11.164165927889877, 10.23572470036396, 10.235803764379858, 14.802928989989464, 32.70376429171619, 10.162768073581999, 25.443592579135483, 10.295638968178631, 56.56534668971146, 12.175799928558568, 13.826072865328172, 11.243860389104015, 15.189342073151494, 10.505947450045804, 15.023497568010875, 64.44729184292001, 22.888077427534974, 70.0938962229313, 68.03839614406333, 21.938475904875425, 22.641220684807664, 22.641220684807664, 22.641171144402296, 18.12323068103845, 17.219632996276527, 16.315871045114836, 14.508652466083888, 13.60503430778477, 13.605467063012448, 10.894272928797873, 10.894246616787967, 10.8946331179239, 10.894449460846905, 9.990615401043158, 31.924891671125543, 30.18020309653355, 70.0938962229313, 12.217181028904426, 10.967701201159706, 12.800041257140219, 10.137938315168244, 12.811737523837738, 64.44729184292001, 22.888077427534974, 14.799274368958953, 12.430353518836945, 13.826072865328172, 26.15241809837693, 17.83073889009764, 11.870826514011384, 21.505255685871372, 32.424224506696625, 37.964504524882976, 27.52574306452187, 24.678774840497976, 21.831956654393057, 19.933878026055147, 15.1890972282888, 15.189063223715237, 15.18898916186661, 14.240166680069894, 13.291080969035809, 12.342124123028585, 11.393094151701536, 11.393101769836763, 14.238211499035641, 21.505255685871372, 26.15241809837693, 14.236428014174919, 11.310118018181086, 29.743415905794443, 12.238289653909003, 15.18373579456168, 72.09806567105758, 11.388300909064318, 10.372796969835122, 12.175799928558568, 10.137938315168244, 56.56534668971146, 32.70376429171619, 15.189342073151494, 33.19910004030379, 68.03839614406333, 38.49367394322927, 31.191629682713263, 19.724283620862952, 15.553045116358785, 15.552603742647415, 14.509955267717794, 13.467602475516278, 13.467526381231854, 12.424885784286683, 12.424885784286683, 12.424885784286683, 11.381837907641717, 20.41551736324766, 17.196377862612866, 12.238806032577163, 13.187891803911045, 13.017678054661388, 17.83073889009764, 11.870826514011384, 21.938475904875425, 32.424224506696625, 20.92841294767556, 15.932655090865186, 12.899544972965064, 10.756034026803558, 12.430353518836945, 12.217181028904426, 10.505947450045804, 29.743415905794443, 25.443592579135483, 56.56534668971146, 64.44729184292001], \"loglift\": [30.0, 29.0, 28.0, 27.0, 26.0, 25.0, 24.0, 23.0, 22.0, 21.0, 20.0, 19.0, 18.0, 17.0, 16.0, 15.0, 14.0, 13.0, 12.0, 11.0, 10.0, 9.0, 8.0, 7.0, 6.0, 5.0, 4.0, 3.0, 2.0, 1.0, 1.4825, 1.4801, 1.4725, 1.4706, 1.4702, 1.4609, 1.4588, 1.4577, 1.4469, 1.4381, 1.4327, 1.4261, 1.4261, 1.426, 1.2967, 1.2039, 1.2013, 1.1925, 1.1838, 1.1519, 1.1449, 1.135, 0.8426, 0.7871, 0.7165, 0.6562, 0.6435, 0.4626, 0.3423, 0.3419, 0.0097, 0.1286, -0.2653, 1.4987, 1.4933, 1.4855, 1.4823, 1.4788, 1.4787, 1.4786, 1.4729, 1.4697, 1.4696, 1.4642, 1.4642, 1.4642, 1.4641, 1.464, 1.4639, 1.4573, 1.4572, 1.2676, 1.1902, 1.1163, 1.1151, 1.1048, 1.0652, 1.0635, 1.0532, 1.016, 0.9606, 0.9331, 0.8276, 0.3527, 0.6593, 0.1632, -0.2443, 0.4733, 1.5616, 1.5616, 1.5616, 1.5526, 1.5502, 1.5478, 1.5416, 1.5378, 1.5374, 1.5226, 1.5225, 1.5222, 1.5221, 1.5158, 1.3866, 1.3164, 1.2927, 1.2096, 1.2046, 1.1639, 1.1187, 1.1081, 1.1048, 1.0129, 0.7745, 0.6229, 0.5172, 0.4883, 0.4569, 0.4517, 0.4286, 0.0016, 1.6275, 1.6197, 1.6164, 1.6122, 1.6087, 1.5961, 1.596, 1.5959, 1.5926, 1.5886, 1.5837, 1.5784, 1.5783, 1.4228, 1.2347, 1.2132, 1.2113, 1.144, 1.0953, 1.0654, 1.0287, 0.9604, 0.8096, 0.6868, 0.5345, 0.5143, 0.3898, 0.3345, 0.3061, 0.2311, -0.4235, 1.7703, 1.765, 1.7515, 1.7408, 1.7406, 1.7369, 1.733, 1.733, 1.7281, 1.7281, 1.7281, 1.7221, 1.5554, 1.5538, 1.5483, 1.4737, 1.4591, 1.3567, 1.3345, 1.3258, 1.195, 1.1749, 1.1662, 1.0985, 0.8953, 0.7516, 0.4962, 0.2653, 0.0881, 0.0338, -0.6822, -0.7859], \"logprob\": [30.0, 29.0, 28.0, 27.0, 26.0, 25.0, 24.0, 23.0, 22.0, 21.0, 20.0, 19.0, 18.0, 17.0, 16.0, 15.0, 14.0, 13.0, 12.0, 11.0, 10.0, 9.0, 8.0, 7.0, 6.0, 5.0, 4.0, 3.0, 2.0, 1.0, -2.5967, -2.7258, -2.9769, -3.0882, -3.0886, -3.3601, -3.4135, -3.3633, -3.6617, -3.8136, -3.899, -3.9925, -3.9925, -3.9926, -3.5275, -4.2186, -3.0601, -4.2302, -3.9936, -3.8975, -2.3989, -4.2084, -4.4886, -2.6987, -4.4902, -4.3393, -4.4002, -4.8815, -4.727, -4.7662, -4.347, -4.5941, -4.5657, -3.203, -3.348, -3.518, -3.5818, -3.6497, -3.6498, -3.6499, -3.655, -3.8017, -3.8017, -3.887, -3.887, -3.887, -3.8871, -3.8872, -3.8873, -3.9806, -3.9808, -3.8014, -3.0861, -4.3288, -3.4123, -4.3274, -2.6633, -4.2009, -4.0841, -4.3281, -4.0827, -4.4788, -4.2267, -3.2454, -3.9739, -3.3508, -3.7881, -4.2023, -3.0825, -3.0825, -3.0825, -3.314, -3.3676, -3.4239, -3.5475, -3.6156, -3.616, -3.8531, -3.8531, -3.8534, -3.8535, -3.9465, -2.9138, -3.0403, -2.2213, -4.0515, -4.1643, -4.0505, -4.3289, -4.1054, -2.4932, -3.6203, -4.2948, -4.6208, -4.6201, -4.0117, -4.426, -4.8381, -4.2669, -4.2834, -2.4997, -2.8291, -2.9416, -3.0683, -3.1627, -3.4471, -3.4472, -3.4474, -3.5152, -3.5882, -3.6671, -3.7525, -3.7525, -3.6852, -3.4608, -3.2867, -3.8968, -4.1942, -3.276, -4.1939, -4.0149, -2.5254, -4.5217, -4.7379, -4.7299, -4.9333, -3.3386, -3.9419, -4.7371, -4.0303, -3.9673, -2.343, -2.5587, -3.0305, -3.2788, -3.279, -3.3521, -3.4306, -3.4306, -3.516, -3.516, -3.516, -3.6098, -3.1922, -3.3654, -3.7109, -3.7109, -3.7385, -3.5262, -3.9553, -3.3498, -3.09, -3.5479, -3.8293, -4.1081, -4.4931, -4.4921, -4.7649, -5.1466, -4.2831, -4.4936, -4.4106, -4.3839]}, \"token.table\": {\"Topic\": [3, 3, 1, 1, 2, 4, 2, 2, 2, 3, 5, 1, 2, 4, 1, 2, 3, 2, 1, 2, 4, 5, 2, 3, 2, 3, 1, 3, 1, 2, 5, 1, 3, 1, 2, 1, 4, 1, 2, 2, 4, 5, 2, 1, 2, 5, 1, 4, 1, 5, 1, 4, 5, 2, 4, 2, 3, 1, 1, 1, 4, 1, 2, 4, 4, 2, 3, 2, 4, 5, 5, 2, 3, 1, 1, 4, 1, 5, 4, 5, 3, 2, 4, 3, 1, 2, 3, 1, 4, 2, 2, 3, 2, 3, 1, 3, 5, 3, 5, 2, 4, 5, 3, 4, 1, 3, 2, 4, 4, 3, 2, 4, 3, 5, 4, 5, 1, 5, 5, 1, 2, 3, 4, 5, 5, 2, 3, 5, 4, 1, 2, 3, 1, 2, 3, 5, 4, 5, 1, 5, 4, 3, 4, 3, 2, 4, 1, 1, 4, 2, 3, 5, 2, 4, 5, 1, 2, 1, 4, 1, 3, 5, 2, 1, 4, 2, 4, 1, 2, 4, 1, 4, 2, 2, 3, 3, 2, 3, 3, 4, 4, 2, 3, 5, 5, 2, 2, 2, 2, 5, 2, 3, 5, 3, 5, 3, 5], \"Freq\": [0.9179134821898985, 0.9380226019959214, 0.9582098136508672, 0.7932127394009314, 0.15864254788018628, 0.953151211980203, 0.9320146763729884, 0.8957443953785363, 0.24134470475467998, 0.4022411745911333, 0.3217929396729067, 0.7054840019797884, 0.16167341712036817, 0.13227825037121033, 0.9732830644045465, 0.43690869325571796, 0.5679813012324334, 0.8957467119606942, 0.9136383822704074, 0.5711050839088141, 0.19036836130293802, 0.19036836130293802, 0.31249899274884674, 0.6249979854976935, 0.9683159615508972, 0.9554982522681299, 0.15661760270034833, 0.8144115340418113, 0.7286129077191692, 0.2649501482615161, 0.965284910680896, 0.9433149080444657, 0.9178986084554865, 0.35574970353387203, 0.622561981184276, 0.39515966829118593, 0.5268795577215812, 0.9582105161150125, 0.9320106101909861, 0.23534620307804996, 0.5715550646181213, 0.16810443077003567, 0.9490813289230564, 0.2789132121118373, 0.2789132121118373, 0.371884282815783, 0.2809693552355466, 0.6321810492799799, 0.46513268588735746, 0.46513268588735746, 0.2389096589646245, 0.1911277271716996, 0.5256012497221739, 0.87927335518119, 0.9654971558676333, 0.8957472694165453, 0.9806402585408144, 0.9732827794029062, 0.9815782865466285, 0.5268564685733238, 0.43904705714443654, 0.2662495854838151, 0.4659367745966765, 0.19968718911286135, 0.9618927122491493, 0.2735304276599717, 0.638237664539934, 0.5925207264841508, 0.263342545104067, 0.1316712725520335, 0.9664519991639178, 0.7430961809949093, 0.20266259481679344, 0.9689705282066268, 0.14046708044303602, 0.7725689424366982, 0.19592939668533035, 0.7837175867413214, 0.16341463331279332, 0.8170731665639667, 0.9179156991535387, 0.40855382095021436, 0.5719753493303001, 0.9716790585748796, 0.2913855088812152, 0.6798995207228355, 0.955528645198743, 0.9730347958232464, 0.921720323242334, 0.9320137415178528, 0.6509440596519219, 0.36163558869551216, 0.688788718714975, 0.2951951651635607, 0.9791621734655648, 0.3369605305307694, 0.6739210610615388, 0.17445534309422134, 0.8141249344396995, 0.6187533896325622, 0.282858692403457, 0.08839334137608032, 0.9716790585748796, 0.9217158289354731, 0.2319401223911581, 0.7620889735709481, 0.6570410196405946, 0.3285205098202973, 0.9808999501561321, 0.9178831349123592, 0.8957229823159826, 0.9654965102762885, 0.23045584530535812, 0.6913675359160744, 0.22748139312989435, 0.7582713104329811, 0.43934924594039404, 0.5648776019233638, 0.9632795981448545, 0.7697495388300711, 0.19243738470751778, 0.3255018262628188, 0.6510036525256376, 0.9658036466762518, 0.9871751928912439, 0.31033111598772545, 0.6051456761760646, 0.07758277899693136, 0.972495602197233, 0.33785440254336757, 0.20271264152602053, 0.4729961635607146, 0.769614674026521, 0.19240366850663024, 0.654815540595898, 0.24555582772346174, 0.9780995263128756, 0.9644687312946771, 0.9488702766044289, 0.9658036466762518, 0.9217137654452447, 0.34413643763819135, 0.6500354933165837, 0.964941439787538, 0.9096909810101613, 0.9745945709827238, 0.9582095953795512, 0.48544991705720747, 0.4993199146874134, 0.6681446398391285, 0.15721050349155966, 0.15721050349155966, 0.3536656287379119, 0.6189148502913459, 0.9658036466762518, 0.9488800396054304, 0.8957403248803668, 0.9662421840098114, 0.9129106626395326, 0.7110141470017353, 0.2666303051256507, 0.9652794566541174, 0.895746747118345, 0.7530324608091767, 0.24097038745893654, 0.7032829552843206, 0.27519767815473417, 0.2892180391387421, 0.2892180391387421, 0.3856240521849895, 0.7528260777566971, 0.22584782332700912, 0.9314580692254731, 0.25679839429601115, 0.7418620279662544, 0.9008454072869502, 0.9096862177184899, 0.9716811846740173, 0.5918363096590243, 0.29591815482951217, 0.9722799641602833, 0.3122137018930907, 0.6244274037861814, 0.9648548008378525, 0.9644413610182941, 0.8792665634446413, 0.9825257429567735, 0.9410858237897234, 0.36465614269139573, 0.6381482497099425, 0.24672910830443293, 0.2158879697663788, 0.5551404936849741, 0.9291719517750319, 0.9617964917243912, 0.33649755273642196, 0.6729951054728439], \"Term\": [\"accused\", \"actually\", \"aesthetic\", \"age\", \"age\", \"amazon\", \"asylum\", \"baby\", \"bad\", \"bad\", \"bad\", \"based\", \"based\", \"based\", \"best\", \"biden\", \"biden\", \"big\", \"build\", \"bunch\", \"bunch\", \"bunch\", \"called\", \"called\", \"case\", \"celebrity\", \"character\", \"character\", \"characters\", \"characters\", \"charged\", \"choose\", \"city\", \"climate\", \"climate\", \"color\", \"color\", \"country\", \"court\", \"day\", \"day\", \"day\", \"days\", \"deal\", \"deal\", \"deal\", \"disney\", \"disney\", \"don\", \"don\", \"eat\", \"eat\", \"eat\", \"fake\", \"fall\", \"family\", \"fans\", \"favorite\", \"food\", \"freak\", \"freak\", \"future\", \"future\", \"future\", \"girl\", \"giuliani\", \"giuliani\", \"good\", \"good\", \"good\", \"got\", \"government\", \"government\", \"guess\", \"hair\", \"hair\", \"halloween\", \"halloween\", \"harry\", \"harry\", \"help\", \"high\", \"high\", \"hong\", \"house\", \"house\", \"impeachment\", \"incoming\", \"instagram\", \"joe\", \"judge\", \"judge\", \"jury\", \"jury\", \"just\", \"key\", \"key\", \"killed\", \"killed\", \"know\", \"know\", \"know\", \"kong\", \"life\", \"like\", \"like\", \"love\", \"love\", \"make\", \"makeup\", \"man\", \"matches\", \"men\", \"men\", \"movie\", \"movie\", \"movies\", \"movies\", \"murder\", \"need\", \"need\", \"new\", \"new\", \"nobel\", \"old\", \"people\", \"people\", \"people\", \"personality\", \"photos\", \"photos\", \"photos\", \"pick\", \"pick\", \"pictures\", \"pictures\", \"plan\", \"police\", \"preferences\", \"prize\", \"probably\", \"products\", \"products\", \"protesters\", \"questions\", \"quiz\", \"relationship\", \"reveal\", \"reveal\", \"said\", \"said\", \"said\", \"school\", \"school\", \"scientists\", \"season\", \"sent\", \"soulmate\", \"star\", \"state\", \"state\", \"suing\", \"supreme\", \"tell\", \"tell\", \"things\", \"things\", \"think\", \"think\", \"think\", \"time\", \"time\", \"tried\", \"trump\", \"trump\", \"turned\", \"tweets\", \"ukraine\", \"use\", \"use\", \"want\", \"wants\", \"wants\", \"watch\", \"way\", \"wear\", \"wedding\", \"week\", \"woman\", \"woman\", \"won\", \"won\", \"won\", \"world\", \"year\", \"years\", \"years\"]}, \"R\": 30, \"lambda.step\": 0.01, \"plot.opts\": {\"xlab\": \"PC1\", \"ylab\": \"PC2\"}, \"topic.order\": [3, 2, 1, 4, 5]};\n",
              "\n",
              "function LDAvis_load_lib(url, callback){\n",
              "  var s = document.createElement('script');\n",
              "  s.src = url;\n",
              "  s.async = true;\n",
              "  s.onreadystatechange = s.onload = callback;\n",
              "  s.onerror = function(){console.warn(\"failed to load library \" + url);};\n",
              "  document.getElementsByTagName(\"head\")[0].appendChild(s);\n",
              "}\n",
              "\n",
              "if(typeof(LDAvis) !== \"undefined\"){\n",
              "   // already loaded: just create the visualization\n",
              "   !function(LDAvis){\n",
              "       new LDAvis(\"#\" + \"ldavis_el1211403294073096489445286544\", ldavis_el1211403294073096489445286544_data);\n",
              "   }(LDAvis);\n",
              "}else if(typeof define === \"function\" && define.amd){\n",
              "   // require.js is available: use it to load d3/LDAvis\n",
              "   require.config({paths: {d3: \"https://cdnjs.cloudflare.com/ajax/libs/d3/3.5.5/d3.min\"}});\n",
              "   require([\"d3\"], function(d3){\n",
              "      window.d3 = d3;\n",
              "      LDAvis_load_lib(\"https://cdn.rawgit.com/bmabey/pyLDAvis/files/ldavis.v1.0.0.js\", function(){\n",
              "        new LDAvis(\"#\" + \"ldavis_el1211403294073096489445286544\", ldavis_el1211403294073096489445286544_data);\n",
              "      });\n",
              "    });\n",
              "}else{\n",
              "    // require.js not available: dynamically load d3 & LDAvis\n",
              "    LDAvis_load_lib(\"https://cdnjs.cloudflare.com/ajax/libs/d3/3.5.5/d3.min.js\", function(){\n",
              "         LDAvis_load_lib(\"https://cdn.rawgit.com/bmabey/pyLDAvis/files/ldavis.v1.0.0.js\", function(){\n",
              "                 new LDAvis(\"#\" + \"ldavis_el1211403294073096489445286544\", ldavis_el1211403294073096489445286544_data);\n",
              "            })\n",
              "         });\n",
              "}\n",
              "</script>"
            ],
            "text/plain": [
              "PreparedData(topic_coordinates=              x         y  topics  cluster       Freq\n",
              "topic                                                \n",
              "2      0.255400 -0.019974       1        1  22.263994\n",
              "1     -0.096813 -0.110009       2        1  21.534019\n",
              "0     -0.244729 -0.164121       3        1  20.261636\n",
              "3      0.218156 -0.019672       4        1  19.245356\n",
              "4     -0.132014  0.313775       5        1  16.694995, topic_info=    Category       Freq         Term      Total  loglift  logprob\n",
              "110  Default  70.000000        trump  70.000000  30.0000  30.0000\n",
              "78   Default  38.000000          old  38.000000  29.0000  29.0000\n",
              "94   Default  72.000000       reveal  72.000000  28.0000  28.0000\n",
              "92   Default  37.000000         quiz  37.000000  27.0000  27.0000\n",
              "59   Default  39.000000         just  39.000000  26.0000  26.0000\n",
              "125  Default  31.000000         year  31.000000  25.0000  25.0000\n",
              "45   Default  35.000000        guess  35.000000  24.0000  24.0000\n",
              "8    Default  68.000000        based  68.000000  23.0000  23.0000\n",
              "79   Default  64.000000       people  64.000000  22.0000  22.0000\n",
              "67   Default  27.000000         make  27.000000  21.0000  21.0000\n",
              "62   Default  56.000000         know  56.000000  20.0000  20.0000\n",
              "80   Default  24.000000  personality  24.000000  19.0000  19.0000\n",
              "37   Default  27.000000         food  27.000000  18.0000  18.0000\n",
              "17   Default  31.000000    character  31.000000  17.0000  17.0000\n",
              "9    Default  24.000000         best  24.000000  16.0000  16.0000\n",
              "36   Default  24.000000     favorite  24.000000  15.0000  15.0000\n",
              "40   Default  21.000000         girl  21.000000  14.0000  14.0000\n",
              "74   Default  19.000000       murder  19.000000  13.0000  13.0000\n",
              "51   Default  22.000000         hong  22.000000  12.0000  12.0000\n",
              "63   Default  22.000000         kong  22.000000  11.0000  11.0000\n",
              "113  Default  22.000000      ukraine  22.000000  10.0000  10.0000\n",
              "4    Default  19.000000       amazon  19.000000   9.0000   9.0000\n",
              "65   Default  30.000000         like  30.000000   8.0000   8.0000\n",
              "105  Default  33.000000         tell  33.000000   7.0000   7.0000\n",
              "120  Default  21.000000      wedding  21.000000   6.0000   6.0000\n",
              "106  Default  32.000000       things  32.000000   5.0000   5.0000\n",
              "1    Default  18.000000     actually  18.000000   4.0000   4.0000\n",
              "47   Default  20.000000    halloween  20.000000   3.0000   3.0000\n",
              "118  Default  15.000000          way  15.000000   2.0000   2.0000\n",
              "85   Default  15.000000       police  15.000000   1.0000   1.0000\n",
              "..       ...        ...          ...        ...      ...      ...\n",
              "74    Topic5  18.977893       murder  19.724284   1.7515  -3.0305\n",
              "118   Topic5  14.805650          way  15.553045   1.7408  -3.2788\n",
              "85    Topic5  14.802658       police  15.552604   1.7406  -3.2790\n",
              "117   Topic5  13.759075        watch  14.509955   1.7369  -3.3521\n",
              "103   Topic5  12.720996        suing  13.467602   1.7330  -3.4306\n",
              "19    Topic5  12.720350      charged  13.467526   1.7330  -3.4306\n",
              "87    Topic5  11.678899        prize  12.424886   1.7281  -3.5160\n",
              "77    Topic5  11.678899        nobel  12.424886   1.7281  -3.5160\n",
              "97    Topic5  11.678899   scientists  12.424886   1.7281  -3.5160\n",
              "43    Topic5  10.633874          got  11.381838   1.7221  -3.6098\n",
              "47    Topic5  16.145663    halloween  20.415517   1.5554  -3.1922\n",
              "61    Topic5  13.577687       killed  17.196378   1.5538  -3.3654\n",
              "48    Topic5   9.610555        harry  12.238806   1.5483  -3.7109\n",
              "72    Topic5   9.611462        movie  13.187892   1.4737  -3.7109\n",
              "71    Topic5   9.349776          men  13.017678   1.4591  -3.7385\n",
              "126   Topic5  11.560136        years  17.830739   1.3567  -3.5262\n",
              "60    Topic5   7.527235          key  11.870827   1.3345  -3.9553\n",
              "122   Topic5  13.791180        woman  21.938476   1.3258  -3.3498\n",
              "123   Topic5  17.882964          won  32.424225   1.1950  -3.0900\n",
              "31    Topic5  11.312499          eat  20.928413   1.1749  -3.5479\n",
              "73    Topic5   8.537978       movies  15.932655   1.1662  -3.8293\n",
              "30    Topic5   6.460211          don  12.899545   1.0985  -4.1081\n",
              "28    Topic5   4.396166         deal  10.756034   0.8953  -4.4931\n",
              "7     Topic5   4.400483          bad  12.430354   0.7516  -4.4921\n",
              "83    Topic5   3.349966     pictures  12.217181   0.4962  -4.7649\n",
              "13    Topic5   2.286856        bunch  10.505947   0.2653  -5.1466\n",
              "26    Topic5   5.423097          day  29.743416   0.0881  -4.2831\n",
              "95    Topic5   4.393940         said  25.443593   0.0338  -4.4936\n",
              "62    Topic5   4.773898         know  56.565347  -0.6822  -4.4106\n",
              "79    Topic5   4.903104       people  64.447292  -0.7859  -4.3839\n",
              "\n",
              "[193 rows x 6 columns], token_table=      Topic      Freq        Term\n",
              "term                             \n",
              "0         3  0.917913     accused\n",
              "1         3  0.938023    actually\n",
              "2         1  0.958210   aesthetic\n",
              "3         1  0.793213         age\n",
              "3         2  0.158643         age\n",
              "4         4  0.953151      amazon\n",
              "5         2  0.932015      asylum\n",
              "6         2  0.895744        baby\n",
              "7         2  0.241345         bad\n",
              "7         3  0.402241         bad\n",
              "7         5  0.321793         bad\n",
              "8         1  0.705484       based\n",
              "8         2  0.161673       based\n",
              "8         4  0.132278       based\n",
              "9         1  0.973283        best\n",
              "10        2  0.436909       biden\n",
              "10        3  0.567981       biden\n",
              "11        2  0.895747         big\n",
              "12        1  0.913638       build\n",
              "13        2  0.571105       bunch\n",
              "13        4  0.190368       bunch\n",
              "13        5  0.190368       bunch\n",
              "14        2  0.312499      called\n",
              "14        3  0.624998      called\n",
              "15        2  0.968316        case\n",
              "16        3  0.955498   celebrity\n",
              "17        1  0.156618   character\n",
              "17        3  0.814412   character\n",
              "18        1  0.728613  characters\n",
              "18        2  0.264950  characters\n",
              "...     ...       ...         ...\n",
              "107       1  0.289218       think\n",
              "107       2  0.289218       think\n",
              "107       4  0.385624       think\n",
              "108       1  0.752826        time\n",
              "108       4  0.225848        time\n",
              "109       2  0.931458       tried\n",
              "110       2  0.256798       trump\n",
              "110       3  0.741862       trump\n",
              "111       3  0.900845      turned\n",
              "112       2  0.909686      tweets\n",
              "113       3  0.971681     ukraine\n",
              "114       3  0.591836         use\n",
              "114       4  0.295918         use\n",
              "115       4  0.972280        want\n",
              "116       2  0.312214       wants\n",
              "116       3  0.624427       wants\n",
              "117       5  0.964855       watch\n",
              "118       5  0.964441         way\n",
              "119       2  0.879267        wear\n",
              "120       2  0.982526     wedding\n",
              "121       2  0.941086        week\n",
              "122       2  0.364656       woman\n",
              "122       5  0.638148       woman\n",
              "123       2  0.246729         won\n",
              "123       3  0.215888         won\n",
              "123       5  0.555140         won\n",
              "124       3  0.929172       world\n",
              "125       5  0.961796        year\n",
              "126       3  0.336498       years\n",
              "126       5  0.672995       years\n",
              "\n",
              "[197 rows x 3 columns], R=30, lambda_step=0.01, plot_opts={'xlab': 'PC1', 'ylab': 'PC2'}, topic_order=[3, 2, 1, 4, 5])"
            ]
          },
          "metadata": {
            "tags": []
          },
          "execution_count": 56
        }
      ]
    },
    {
      "cell_type": "code",
      "metadata": {
        "id": "x80VwB6_tXJB",
        "colab_type": "code",
        "colab": {}
      },
      "source": [
        "first_topic = lda_tf.components_[0]"
      ],
      "execution_count": 0,
      "outputs": []
    },
    {
      "cell_type": "code",
      "metadata": {
        "id": "IyoYDFu1x49E",
        "colab_type": "code",
        "outputId": "d8027a17-a8b5-483b-9940-bf60d2364d8e",
        "colab": {
          "base_uri": "https://localhost:8080/",
          "height": 34
        }
      },
      "source": [
        "top_topic_words = first_topic.argsort()[-10:]\n",
        "top_topic_words "
      ],
      "execution_count": 0,
      "outputs": [
        {
          "output_type": "execute_result",
          "data": {
            "text/plain": [
              "array([ 35, 124,   1, 113,  51,  63,  65,  17,  79, 110])"
            ]
          },
          "metadata": {
            "tags": []
          },
          "execution_count": 58
        }
      ]
    },
    {
      "cell_type": "code",
      "metadata": {
        "id": "zsXbkIfyx-Dd",
        "colab_type": "code",
        "outputId": "e12ac11e-3bc2-4fec-9152-d941b7dcee97",
        "colab": {
          "base_uri": "https://localhost:8080/",
          "height": 187
        }
      },
      "source": [
        "for i in top_topic_words:\n",
        "    print(tf_vectorizer.get_feature_names()[i])"
      ],
      "execution_count": 0,
      "outputs": [
        {
          "output_type": "stream",
          "text": [
            "fans\n",
            "world\n",
            "actually\n",
            "ukraine\n",
            "hong\n",
            "kong\n",
            "like\n",
            "character\n",
            "people\n",
            "trump\n"
          ],
          "name": "stdout"
        }
      ]
    },
    {
      "cell_type": "code",
      "metadata": {
        "id": "djqPLQbPyCbu",
        "colab_type": "code",
        "outputId": "9d1364f1-2ccd-492e-e71e-69cb19df4db1",
        "colab": {
          "base_uri": "https://localhost:8080/",
          "height": 357
        }
      },
      "source": [
        "for i,topic in enumerate(lda_tf.components_):\n",
        "    print(f'Top 10 words for topic #{i}:')\n",
        "    print([tf_vectorizer.get_feature_names()[i] for i in topic.argsort()[-10:]])\n",
        "    print('\\n')"
      ],
      "execution_count": 0,
      "outputs": [
        {
          "output_type": "stream",
          "text": [
            "Top 10 words for topic #0:\n",
            "['fans', 'world', 'actually', 'ukraine', 'hong', 'kong', 'like', 'character', 'people', 'trump']\n",
            "\n",
            "\n",
            "Top 10 words for topic #1:\n",
            "['asylum', 'week', 'days', 'said', 'trump', 'case', 'people', 'wedding', 'things', 'know']\n",
            "\n",
            "\n",
            "Top 10 words for topic #2:\n",
            "['preferences', 'season', 'favorite', 'best', 'tell', 'food', 'guess', 'reveal', 'just', 'based']\n",
            "\n",
            "\n",
            "Top 10 words for topic #3:\n",
            "['probably', 'know', 'products', 'day', 'amazon', 'girl', 'personality', 'make', 'reveal', 'quiz']\n",
            "\n",
            "\n",
            "Top 10 words for topic #4:\n",
            "['killed', 'watch', 'woman', 'police', 'way', 'halloween', 'won', 'murder', 'year', 'old']\n",
            "\n",
            "\n"
          ],
          "name": "stdout"
        }
      ]
    },
    {
      "cell_type": "code",
      "metadata": {
        "id": "55nEIZJ0zLxm",
        "colab_type": "code",
        "colab": {}
      },
      "source": [
        "# 1. Wordcloud of Top N words in each topic\n",
        "from matplotlib import pyplot as plt\n",
        "from wordcloud import WordCloud, STOPWORDS\n",
        "import matplotlib.colors as mcolors\n"
      ],
      "execution_count": 0,
      "outputs": []
    },
    {
      "cell_type": "code",
      "metadata": {
        "id": "26QwB6Bu18LI",
        "colab_type": "code",
        "outputId": "60ca4429-0972-4667-b1f1-42875a0e0230",
        "colab": {
          "base_uri": "https://localhost:8080/",
          "height": 231
        }
      },
      "source": [
        "cloud = WordCloud(stopwords=stop_words,\n",
        "                  background_color='white',\n",
        "                  width=2500,\n",
        "                  height=1800,\n",
        "                  max_words=10,\n",
        "                  colormap='tab10',\n",
        "                  color_func=lambda *args, **kwargs: cols[i],\n",
        "                  prefer_horizontal=1.0)\n",
        "\n",
        "topics = lda_tf.topics(formatted=False)\n",
        "\n",
        "fig, axes = plt.subplots(2, 2, figsize=(10,10), sharex=True, sharey=True)\n",
        "\n",
        "for i, ax in enumerate(axes.flatten()):\n",
        "    fig.add_subplot(ax)\n",
        "    topic_words = dict(topics[i][1])\n",
        "    cloud.generate_from_frequencies(topic_words, max_font_size=300)\n",
        "    plt.gca().imshow(cloud)\n",
        "    plt.gca().set_title('Topic ' + str(i), fontdict=dict(size=16))\n",
        "    plt.gca().axis('off')\n",
        "\n",
        "\n",
        "plt.subplots_adjust(wspace=0, hspace=0)\n",
        "plt.axis('off')\n",
        "plt.margins(x=0, y=0)\n",
        "plt.tight_layout()\n",
        "plt.show()"
      ],
      "execution_count": 0,
      "outputs": [
        {
          "output_type": "error",
          "ename": "AttributeError",
          "evalue": "ignored",
          "traceback": [
            "\u001b[0;31m---------------------------------------------------------------------------\u001b[0m",
            "\u001b[0;31mAttributeError\u001b[0m                            Traceback (most recent call last)",
            "\u001b[0;32m<ipython-input-70-076bafa55c67>\u001b[0m in \u001b[0;36m<module>\u001b[0;34m()\u001b[0m\n\u001b[1;32m      8\u001b[0m                   prefer_horizontal=1.0)\n\u001b[1;32m      9\u001b[0m \u001b[0;34m\u001b[0m\u001b[0m\n\u001b[0;32m---> 10\u001b[0;31m \u001b[0mtopics\u001b[0m \u001b[0;34m=\u001b[0m \u001b[0mlda_tf\u001b[0m\u001b[0;34m.\u001b[0m\u001b[0mtopics\u001b[0m\u001b[0;34m(\u001b[0m\u001b[0mformatted\u001b[0m\u001b[0;34m=\u001b[0m\u001b[0;32mFalse\u001b[0m\u001b[0;34m)\u001b[0m\u001b[0;34m\u001b[0m\u001b[0;34m\u001b[0m\u001b[0m\n\u001b[0m\u001b[1;32m     11\u001b[0m \u001b[0;34m\u001b[0m\u001b[0m\n\u001b[1;32m     12\u001b[0m \u001b[0mfig\u001b[0m\u001b[0;34m,\u001b[0m \u001b[0maxes\u001b[0m \u001b[0;34m=\u001b[0m \u001b[0mplt\u001b[0m\u001b[0;34m.\u001b[0m\u001b[0msubplots\u001b[0m\u001b[0;34m(\u001b[0m\u001b[0;36m2\u001b[0m\u001b[0;34m,\u001b[0m \u001b[0;36m2\u001b[0m\u001b[0;34m,\u001b[0m \u001b[0mfigsize\u001b[0m\u001b[0;34m=\u001b[0m\u001b[0;34m(\u001b[0m\u001b[0;36m10\u001b[0m\u001b[0;34m,\u001b[0m\u001b[0;36m10\u001b[0m\u001b[0;34m)\u001b[0m\u001b[0;34m,\u001b[0m \u001b[0msharex\u001b[0m\u001b[0;34m=\u001b[0m\u001b[0;32mTrue\u001b[0m\u001b[0;34m,\u001b[0m \u001b[0msharey\u001b[0m\u001b[0;34m=\u001b[0m\u001b[0;32mTrue\u001b[0m\u001b[0;34m)\u001b[0m\u001b[0;34m\u001b[0m\u001b[0;34m\u001b[0m\u001b[0m\n",
            "\u001b[0;31mAttributeError\u001b[0m: 'LatentDirichletAllocation' object has no attribute 'topics'"
          ]
        }
      ]
    },
    {
      "cell_type": "code",
      "metadata": {
        "id": "5l24kXqt2DqT",
        "colab_type": "code",
        "outputId": "3c1841ec-60b4-41c4-8c50-f62ff405fc8e",
        "colab": {
          "base_uri": "https://localhost:8080/",
          "height": 231
        }
      },
      "source": [
        ""
      ],
      "execution_count": 0,
      "outputs": [
        {
          "output_type": "error",
          "ename": "AttributeError",
          "evalue": "ignored",
          "traceback": [
            "\u001b[0;31m---------------------------------------------------------------------------\u001b[0m",
            "\u001b[0;31mAttributeError\u001b[0m                            Traceback (most recent call last)",
            "\u001b[0;32m<ipython-input-65-2724e66e1d3f>\u001b[0m in \u001b[0;36m<module>\u001b[0;34m()\u001b[0m\n\u001b[0;32m----> 1\u001b[0;31m \u001b[0mtopics\u001b[0m \u001b[0;34m=\u001b[0m \u001b[0mlda_tf\u001b[0m\u001b[0;34m.\u001b[0m\u001b[0mshow_topics\u001b[0m\u001b[0;34m(\u001b[0m\u001b[0mformatted\u001b[0m\u001b[0;34m=\u001b[0m\u001b[0;32mFalse\u001b[0m\u001b[0;34m)\u001b[0m\u001b[0;34m\u001b[0m\u001b[0;34m\u001b[0m\u001b[0m\n\u001b[0m\u001b[1;32m      2\u001b[0m \u001b[0;34m\u001b[0m\u001b[0m\n\u001b[1;32m      3\u001b[0m \u001b[0mfig\u001b[0m\u001b[0;34m,\u001b[0m \u001b[0maxes\u001b[0m \u001b[0;34m=\u001b[0m \u001b[0mplt\u001b[0m\u001b[0;34m.\u001b[0m\u001b[0msubplots\u001b[0m\u001b[0;34m(\u001b[0m\u001b[0;36m2\u001b[0m\u001b[0;34m,\u001b[0m \u001b[0;36m2\u001b[0m\u001b[0;34m,\u001b[0m \u001b[0mfigsize\u001b[0m\u001b[0;34m=\u001b[0m\u001b[0;34m(\u001b[0m\u001b[0;36m10\u001b[0m\u001b[0;34m,\u001b[0m\u001b[0;36m10\u001b[0m\u001b[0;34m)\u001b[0m\u001b[0;34m,\u001b[0m \u001b[0msharex\u001b[0m\u001b[0;34m=\u001b[0m\u001b[0;32mTrue\u001b[0m\u001b[0;34m,\u001b[0m \u001b[0msharey\u001b[0m\u001b[0;34m=\u001b[0m\u001b[0;32mTrue\u001b[0m\u001b[0;34m)\u001b[0m\u001b[0;34m\u001b[0m\u001b[0;34m\u001b[0m\u001b[0m\n\u001b[1;32m      4\u001b[0m \u001b[0;34m\u001b[0m\u001b[0m\n\u001b[1;32m      5\u001b[0m \u001b[0;32mfor\u001b[0m \u001b[0mi\u001b[0m\u001b[0;34m,\u001b[0m \u001b[0max\u001b[0m \u001b[0;32min\u001b[0m \u001b[0menumerate\u001b[0m\u001b[0;34m(\u001b[0m\u001b[0maxes\u001b[0m\u001b[0;34m.\u001b[0m\u001b[0mflatten\u001b[0m\u001b[0;34m(\u001b[0m\u001b[0;34m)\u001b[0m\u001b[0;34m)\u001b[0m\u001b[0;34m:\u001b[0m\u001b[0;34m\u001b[0m\u001b[0;34m\u001b[0m\u001b[0m\n",
            "\u001b[0;31mAttributeError\u001b[0m: 'LatentDirichletAllocation' object has no attribute 'show_topics'"
          ]
        }
      ]
    },
    {
      "cell_type": "code",
      "metadata": {
        "id": "cYaPF3Kd2fy5",
        "colab_type": "code",
        "colab": {}
      },
      "source": [
        ""
      ],
      "execution_count": 0,
      "outputs": []
    }
  ]
}